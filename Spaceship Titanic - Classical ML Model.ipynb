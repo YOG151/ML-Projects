{
 "cells": [
  {
   "cell_type": "code",
   "execution_count": null,
   "id": "initial_id",
   "metadata": {
    "collapsed": true,
    "is_executing": true
   },
   "outputs": [],
   "source": [
    "import matplotlib.pyplot as plt\n",
    "import numpy as np\n",
    "import pandas as pd\n",
    "import seaborn as sns\n",
    "\n",
    "# Set Matplotlib defaults\n",
    "plt.style.use(\"seaborn-whitegrid\")\n",
    "plt.rc(\"figure\", autolayout=True)\n",
    "plt.rc(\n",
    "    \"axes\",\n",
    "    labelweight=\"bold\",\n",
    "    labelsize=\"large\",\n",
    "    titleweight=\"bold\",\n",
    "    titlesize=14,\n",
    "    titlepad=10,\n",
    ")\n",
    "\n",
    "# Read the data\n",
    "train_data = pd.read_csv('train.csv')\n",
    "test_data = pd.read_csv('test.csv')\n",
    "train_data_full = train_data.copy()\n",
    "# Remove rows with missing target, separate target from predictors\n",
    "train_data.dropna(axis=0, subset=['Transported'], inplace=True)\n",
    "y_train = train_data.Transported\n",
    "print(y_train.shape)\n",
    "train_data.drop(['Transported'], axis=1, inplace=True)\n",
    "\n",
    "# submission_id= train_data['# feature for result #'] #<- only necessary based on submitting format\n",
    "train_len = len(train_data)\n",
    "X = pd.concat([train_data,test_data], axis=0)"
   ]
  },
  {
   "cell_type": "code",
   "execution_count": 69,
   "outputs": [
    {
     "name": "stdout",
     "output_type": "stream",
     "text": [
      "shape of data frame:  (12970, 13)\n",
      "                Age   RoomService     FoodCourt  ShoppingMall           Spa  \\\n",
      "count  12700.000000  12707.000000  12681.000000  12664.000000  12686.000000   \n",
      "mean      28.771969    222.897852    451.961675    174.906033    308.476904   \n",
      "std       14.387261    647.596664   1584.370747    590.558690   1130.279641   \n",
      "min        0.000000      0.000000      0.000000      0.000000      0.000000   \n",
      "25%       19.000000      0.000000      0.000000      0.000000      0.000000   \n",
      "50%       27.000000      0.000000      0.000000      0.000000      0.000000   \n",
      "75%       38.000000     49.000000     77.000000     29.000000     57.000000   \n",
      "max       79.000000  14327.000000  29813.000000  23492.000000  22408.000000   \n",
      "\n",
      "             VRDeck  \n",
      "count  12702.000000  \n",
      "mean     306.789482  \n",
      "std     1180.097223  \n",
      "min        0.000000  \n",
      "25%        0.000000  \n",
      "50%        0.000000  \n",
      "75%       42.000000  \n",
      "max    24133.000000  \n"
     ]
    },
    {
     "data": {
      "text/plain": "     PassengerId HomePlanet CryoSleep     Cabin    Destination   Age    VIP  \\\n0        0001_01     Europa     False     B/0/P    TRAPPIST-1e  39.0  False   \n1        0002_01      Earth     False     F/0/S    TRAPPIST-1e  24.0  False   \n2        0003_01     Europa     False     A/0/S    TRAPPIST-1e  58.0   True   \n3        0003_02     Europa     False     A/0/S    TRAPPIST-1e  33.0  False   \n4        0004_01      Earth     False     F/1/S    TRAPPIST-1e  16.0  False   \n...          ...        ...       ...       ...            ...   ...    ...   \n4272     9266_02      Earth      True  G/1496/S    TRAPPIST-1e  34.0  False   \n4273     9269_01      Earth     False       NaN    TRAPPIST-1e  42.0  False   \n4274     9271_01       Mars      True   D/296/P    55 Cancri e   NaN  False   \n4275     9273_01     Europa     False   D/297/P            NaN   NaN  False   \n4276     9277_01      Earth      True  G/1498/S  PSO J318.5-22  43.0  False   \n\n      RoomService  FoodCourt  ShoppingMall     Spa  VRDeck               Name  \n0             0.0        0.0           0.0     0.0     0.0    Maham Ofracculy  \n1           109.0        9.0          25.0   549.0    44.0       Juanna Vines  \n2            43.0     3576.0           0.0  6715.0    49.0      Altark Susent  \n3             0.0     1283.0         371.0  3329.0   193.0       Solam Susent  \n4           303.0       70.0         151.0   565.0     2.0  Willy Santantines  \n...           ...        ...           ...     ...     ...                ...  \n4272          0.0        0.0           0.0     0.0     0.0        Jeron Peter  \n4273          0.0      847.0          17.0    10.0   144.0      Matty Scheron  \n4274          0.0        0.0           0.0     0.0     0.0        Jayrin Pore  \n4275          0.0     2680.0           0.0     0.0   523.0     Kitakan Conale  \n4276          0.0        0.0           0.0     0.0     0.0   Lilace Leonzaley  \n\n[12970 rows x 13 columns]",
      "text/html": "<div>\n<style scoped>\n    .dataframe tbody tr th:only-of-type {\n        vertical-align: middle;\n    }\n\n    .dataframe tbody tr th {\n        vertical-align: top;\n    }\n\n    .dataframe thead th {\n        text-align: right;\n    }\n</style>\n<table border=\"1\" class=\"dataframe\">\n  <thead>\n    <tr style=\"text-align: right;\">\n      <th></th>\n      <th>PassengerId</th>\n      <th>HomePlanet</th>\n      <th>CryoSleep</th>\n      <th>Cabin</th>\n      <th>Destination</th>\n      <th>Age</th>\n      <th>VIP</th>\n      <th>RoomService</th>\n      <th>FoodCourt</th>\n      <th>ShoppingMall</th>\n      <th>Spa</th>\n      <th>VRDeck</th>\n      <th>Name</th>\n    </tr>\n  </thead>\n  <tbody>\n    <tr>\n      <th>0</th>\n      <td>0001_01</td>\n      <td>Europa</td>\n      <td>False</td>\n      <td>B/0/P</td>\n      <td>TRAPPIST-1e</td>\n      <td>39.0</td>\n      <td>False</td>\n      <td>0.0</td>\n      <td>0.0</td>\n      <td>0.0</td>\n      <td>0.0</td>\n      <td>0.0</td>\n      <td>Maham Ofracculy</td>\n    </tr>\n    <tr>\n      <th>1</th>\n      <td>0002_01</td>\n      <td>Earth</td>\n      <td>False</td>\n      <td>F/0/S</td>\n      <td>TRAPPIST-1e</td>\n      <td>24.0</td>\n      <td>False</td>\n      <td>109.0</td>\n      <td>9.0</td>\n      <td>25.0</td>\n      <td>549.0</td>\n      <td>44.0</td>\n      <td>Juanna Vines</td>\n    </tr>\n    <tr>\n      <th>2</th>\n      <td>0003_01</td>\n      <td>Europa</td>\n      <td>False</td>\n      <td>A/0/S</td>\n      <td>TRAPPIST-1e</td>\n      <td>58.0</td>\n      <td>True</td>\n      <td>43.0</td>\n      <td>3576.0</td>\n      <td>0.0</td>\n      <td>6715.0</td>\n      <td>49.0</td>\n      <td>Altark Susent</td>\n    </tr>\n    <tr>\n      <th>3</th>\n      <td>0003_02</td>\n      <td>Europa</td>\n      <td>False</td>\n      <td>A/0/S</td>\n      <td>TRAPPIST-1e</td>\n      <td>33.0</td>\n      <td>False</td>\n      <td>0.0</td>\n      <td>1283.0</td>\n      <td>371.0</td>\n      <td>3329.0</td>\n      <td>193.0</td>\n      <td>Solam Susent</td>\n    </tr>\n    <tr>\n      <th>4</th>\n      <td>0004_01</td>\n      <td>Earth</td>\n      <td>False</td>\n      <td>F/1/S</td>\n      <td>TRAPPIST-1e</td>\n      <td>16.0</td>\n      <td>False</td>\n      <td>303.0</td>\n      <td>70.0</td>\n      <td>151.0</td>\n      <td>565.0</td>\n      <td>2.0</td>\n      <td>Willy Santantines</td>\n    </tr>\n    <tr>\n      <th>...</th>\n      <td>...</td>\n      <td>...</td>\n      <td>...</td>\n      <td>...</td>\n      <td>...</td>\n      <td>...</td>\n      <td>...</td>\n      <td>...</td>\n      <td>...</td>\n      <td>...</td>\n      <td>...</td>\n      <td>...</td>\n      <td>...</td>\n    </tr>\n    <tr>\n      <th>4272</th>\n      <td>9266_02</td>\n      <td>Earth</td>\n      <td>True</td>\n      <td>G/1496/S</td>\n      <td>TRAPPIST-1e</td>\n      <td>34.0</td>\n      <td>False</td>\n      <td>0.0</td>\n      <td>0.0</td>\n      <td>0.0</td>\n      <td>0.0</td>\n      <td>0.0</td>\n      <td>Jeron Peter</td>\n    </tr>\n    <tr>\n      <th>4273</th>\n      <td>9269_01</td>\n      <td>Earth</td>\n      <td>False</td>\n      <td>NaN</td>\n      <td>TRAPPIST-1e</td>\n      <td>42.0</td>\n      <td>False</td>\n      <td>0.0</td>\n      <td>847.0</td>\n      <td>17.0</td>\n      <td>10.0</td>\n      <td>144.0</td>\n      <td>Matty Scheron</td>\n    </tr>\n    <tr>\n      <th>4274</th>\n      <td>9271_01</td>\n      <td>Mars</td>\n      <td>True</td>\n      <td>D/296/P</td>\n      <td>55 Cancri e</td>\n      <td>NaN</td>\n      <td>False</td>\n      <td>0.0</td>\n      <td>0.0</td>\n      <td>0.0</td>\n      <td>0.0</td>\n      <td>0.0</td>\n      <td>Jayrin Pore</td>\n    </tr>\n    <tr>\n      <th>4275</th>\n      <td>9273_01</td>\n      <td>Europa</td>\n      <td>False</td>\n      <td>D/297/P</td>\n      <td>NaN</td>\n      <td>NaN</td>\n      <td>False</td>\n      <td>0.0</td>\n      <td>2680.0</td>\n      <td>0.0</td>\n      <td>0.0</td>\n      <td>523.0</td>\n      <td>Kitakan Conale</td>\n    </tr>\n    <tr>\n      <th>4276</th>\n      <td>9277_01</td>\n      <td>Earth</td>\n      <td>True</td>\n      <td>G/1498/S</td>\n      <td>PSO J318.5-22</td>\n      <td>43.0</td>\n      <td>False</td>\n      <td>0.0</td>\n      <td>0.0</td>\n      <td>0.0</td>\n      <td>0.0</td>\n      <td>0.0</td>\n      <td>Lilace Leonzaley</td>\n    </tr>\n  </tbody>\n</table>\n<p>12970 rows × 13 columns</p>\n</div>"
     },
     "execution_count": 69,
     "metadata": {},
     "output_type": "execute_result"
    }
   ],
   "source": [
    "print('shape of data frame: ', X.shape)\n",
    "print(X.describe())\n",
    "X"
   ],
   "metadata": {
    "collapsed": false,
    "ExecuteTime": {
     "end_time": "2023-11-04T19:04:05.621689700Z",
     "start_time": "2023-11-04T19:04:05.366284900Z"
    }
   },
   "id": "47942d2ead2961f8"
  },
  {
   "cell_type": "code",
   "execution_count": 70,
   "outputs": [
    {
     "data": {
      "text/plain": "Index(['PassengerId', 'HomePlanet', 'CryoSleep', 'Cabin', 'Destination', 'Age',\n       'VIP', 'RoomService', 'FoodCourt', 'ShoppingMall', 'Spa', 'VRDeck',\n       'Name'],\n      dtype='object')"
     },
     "execution_count": 70,
     "metadata": {},
     "output_type": "execute_result"
    }
   ],
   "source": [
    "X.columns"
   ],
   "metadata": {
    "collapsed": false,
    "ExecuteTime": {
     "end_time": "2023-11-04T19:04:06.519800400Z",
     "start_time": "2023-11-04T19:04:06.168687Z"
    }
   },
   "id": "13018ba454b4e75e"
  },
  {
   "cell_type": "code",
   "execution_count": 71,
   "outputs": [
    {
     "data": {
      "text/plain": "PassengerId      object\nHomePlanet       object\nCryoSleep        object\nCabin            object\nDestination      object\nAge             float64\nVIP              object\nRoomService     float64\nFoodCourt       float64\nShoppingMall    float64\nSpa             float64\nVRDeck          float64\nName             object\ndtype: object"
     },
     "execution_count": 71,
     "metadata": {},
     "output_type": "execute_result"
    }
   ],
   "source": [
    "X.dtypes"
   ],
   "metadata": {
    "collapsed": false,
    "ExecuteTime": {
     "end_time": "2023-11-04T19:04:09.462778600Z",
     "start_time": "2023-11-04T19:04:09.063370400Z"
    }
   },
   "id": "40b30b18e4dc243d"
  },
  {
   "cell_type": "code",
   "execution_count": 72,
   "outputs": [
    {
     "name": "stdout",
     "output_type": "stream",
     "text": [
      "numeric features:  ['Age', 'RoomService', 'FoodCourt', 'ShoppingMall', 'Spa', 'VRDeck'] \n",
      "\n",
      "categorical features:  ['PassengerId', 'HomePlanet', 'CryoSleep', 'Cabin', 'Destination', 'VIP', 'Name'] \n"
     ]
    }
   ],
   "source": [
    "categorical_features = [col for col in X.columns if X[col].dtype == 'object']\n",
    "numeric_features = [col for col in X.columns if X[col].dtype == 'float64']\n",
    "print(\"numeric features: \", numeric_features, '\\n')\n",
    "print(\"categorical features: \", categorical_features, '\\n')"
   ],
   "metadata": {
    "collapsed": false,
    "ExecuteTime": {
     "end_time": "2023-11-04T19:04:10.462446600Z",
     "start_time": "2023-11-04T19:04:10.308737300Z"
    }
   },
   "id": "cc0230b3dbe05627"
  },
  {
   "cell_type": "code",
   "execution_count": 73,
   "outputs": [
    {
     "data": {
      "text/plain": "CryoSleep       310\nShoppingMall    306\nCabin           299\nVIP             296\nName            294\nFoodCourt       289\nHomePlanet      288\nSpa             284\nDestination     274\nAge             270\nVRDeck          268\nRoomService     263\nPassengerId       0\ndtype: int64"
     },
     "execution_count": 73,
     "metadata": {},
     "output_type": "execute_result"
    }
   ],
   "source": [
    "X.isna().sum().sort_values(ascending=False)"
   ],
   "metadata": {
    "collapsed": false,
    "ExecuteTime": {
     "end_time": "2023-11-04T19:04:11.533812300Z",
     "start_time": "2023-11-04T19:04:11.320320400Z"
    }
   },
   "id": "9fe06c50524fab88"
  },
  {
   "cell_type": "markdown",
   "source": [
    "# Univariate data analysis "
   ],
   "metadata": {
    "collapsed": false
   },
   "id": "cfc97344a8d23706"
  },
  {
   "cell_type": "code",
   "execution_count": 74,
   "outputs": [],
   "source": [
    "def plot_numeric(df, feature, target=None):\n",
    "    # Create a 1x3 grid of subplots\n",
    "    fig, axes = plt.subplots(1, 3, figsize=(12, 5)) \n",
    "    \n",
    "    # First subplot (histogram + kde)\n",
    "    sns.histplot(df[feature], kde=True, kde_kws=dict(cut=4), ax=axes[0])\n",
    "    axes[0].set_title(\"{} hist & kde distribution\".format(feature))\n",
    "    axes[0].set_xlabel(\"{}\".format(feature))\n",
    "    axes[0].set_ylabel('count')\n",
    "    \n",
    "    # Second subplot (box plot)\n",
    "    df[feature].plot(kind='box', ax=axes[1])\n",
    "    axes[1].set_title(\"{} box plot\".format(feature))\n",
    "    \n",
    "    \n",
    "    # sometimes this graph is not very informative, works best for a low distribution value with low skew\n",
    "    if target is not None:\n",
    "        sns.histplot(data=df, x=feat, hue=target, ax=axes[2])\n",
    "        axes[2].set_title(\"{} hist & kde distribution\".format(feature))\n",
    "        axes[2].set_xlabel(\"{}\".format(feature))\n",
    "        axes[2].set_ylabel('count')\n",
    "    \n",
    "    # Adjust layout\n",
    "    plt.tight_layout()\n",
    "    \n",
    "    # Show the plots\n",
    "    plt.show()"
   ],
   "metadata": {
    "collapsed": false,
    "ExecuteTime": {
     "end_time": "2023-11-04T19:04:12.842586600Z",
     "start_time": "2023-11-04T19:04:12.736024300Z"
    }
   },
   "id": "8faac5ac13c94090"
  },
  {
   "cell_type": "code",
   "execution_count": 75,
   "outputs": [],
   "source": [
    "# for feat in numeric_features:\n",
    "    # plot_numeric(train_data_full, feat ,'Transported')"
   ],
   "metadata": {
    "collapsed": false,
    "ExecuteTime": {
     "end_time": "2023-11-04T19:04:13.391484700Z",
     "start_time": "2023-11-04T19:04:13.325058900Z"
    }
   },
   "id": "a53a34372c799115"
  },
  {
   "cell_type": "code",
   "execution_count": 76,
   "outputs": [
    {
     "data": {
      "text/plain": "0       0.0\n1     549.0\n2    6715.0\n3    3329.0\n4     565.0\nName: Spa, dtype: float64"
     },
     "execution_count": 76,
     "metadata": {},
     "output_type": "execute_result"
    }
   ],
   "source": [
    "X.Spa.head()"
   ],
   "metadata": {
    "collapsed": false,
    "ExecuteTime": {
     "end_time": "2023-11-04T19:04:13.868170800Z",
     "start_time": "2023-11-04T19:04:13.802131100Z"
    }
   },
   "id": "a39fe24a392a6aa1"
  },
  {
   "cell_type": "code",
   "execution_count": 77,
   "outputs": [
    {
     "name": "stdout",
     "output_type": "stream",
     "text": [
      "number of missing values for spa: 284 \n",
      "\n",
      "% of missing values for spa: 2.1896684656900542 \n",
      "\n",
      "count    12686.000000\n",
      "mean       308.476904\n",
      "std       1130.279641\n",
      "min          0.000000\n",
      "25%          0.000000\n",
      "50%          0.000000\n",
      "75%         57.000000\n",
      "max      22408.000000\n",
      "Name: Spa, dtype: float64\n"
     ]
    }
   ],
   "source": [
    "print('number of missing values for spa:', X['Spa'].isna().sum() ,'\\n')\n",
    "print('% of missing values for spa:', X['Spa'].isna().sum()/len(X['Spa'])*100 ,'\\n')\n",
    "\n",
    "print(X['Spa'].dropna().describe())"
   ],
   "metadata": {
    "collapsed": false,
    "ExecuteTime": {
     "end_time": "2023-11-04T19:04:14.344149700Z",
     "start_time": "2023-11-04T19:04:14.274011600Z"
    }
   },
   "id": "f6d6650864e6de66"
  },
  {
   "cell_type": "code",
   "execution_count": 78,
   "outputs": [],
   "source": [
    "# X['log_spa'] = X['Spa'].apply(np.log1p)\n",
    "# X.log_spa\n"
   ],
   "metadata": {
    "collapsed": false,
    "ExecuteTime": {
     "end_time": "2023-11-04T19:04:15.019513200Z",
     "start_time": "2023-11-04T19:04:14.886628300Z"
    }
   },
   "id": "e67bf2e1fd945538"
  },
  {
   "cell_type": "code",
   "execution_count": 79,
   "outputs": [],
   "source": [
    "# plot_numeric(X,'log_spa')"
   ],
   "metadata": {
    "collapsed": false,
    "ExecuteTime": {
     "end_time": "2023-11-04T19:04:15.428418700Z",
     "start_time": "2023-11-04T19:04:15.383622300Z"
    }
   },
   "id": "6f98653389efa61e"
  },
  {
   "cell_type": "code",
   "execution_count": 80,
   "outputs": [
    {
     "data": {
      "text/plain": "{'PassengerId': 12970,\n 'HomePlanet': 3,\n 'CryoSleep': 2,\n 'Cabin': 9825,\n 'Destination': 3,\n 'VIP': 2,\n 'Name': 12629}"
     },
     "execution_count": 80,
     "metadata": {},
     "output_type": "execute_result"
    }
   ],
   "source": [
    "object_nunique = list(map(lambda col: X[col].nunique(), categorical_features))\n",
    "d = dict(zip(categorical_features, object_nunique))\n",
    "d\n"
   ],
   "metadata": {
    "collapsed": false,
    "ExecuteTime": {
     "end_time": "2023-11-04T19:04:15.924178100Z",
     "start_time": "2023-11-04T19:04:15.834675800Z"
    }
   },
   "id": "d484a0c11adc0eee"
  },
  {
   "cell_type": "code",
   "execution_count": 81,
   "outputs": [],
   "source": [
    "low_card = ['HomePlanet','CryoSleep', 'Destination', 'VIP']\n",
    "high_card = ['Cabin', 'Name']\n",
    "\n",
    "def analyse_high_cardinality (df, feat):\n",
    "    print('-------------Analysis of {} ----------\\n'.format(feat))\n",
    "    print('General Description of {}\\n'.format(feat), df[feat].dropna().describe(), '\\n')\n",
    "    print('Number of Duplicates in {}\\n'.format(feat), df[feat].duplicated().sum(), '\\n')\n",
    "    print('Value Counts in {}\\n'.format(feat), df[feat].value_counts(), '\\n')\n",
    "    print('Number of missing values in {}:'.format(feat), df[feat].nunique(), '\\n')\n",
    "    \n",
    "\n",
    "def analyse_low_cardinality(df, feat, target=None):\n",
    "    fig, axes = plt.subplots(1, 3, figsize=(12, 5))\n",
    "    df[feat].value_counts().plot(kind='bar', ax=axes[0])\n",
    "    axes[0].set_title(\"{} Value Counts (Bar)\".format(feat))\n",
    "    axes[0].set_xlabel(\"{}\".format(feat))\n",
    "    axes[0].set_ylabel(\"Count\")\n",
    "\n",
    "    df[feat].value_counts().plot(kind='pie', autopct='%0.1f%%', ax=axes[1])\n",
    "    axes[1].set_title(\"{} Value Counts (Pie)\".format(feat))\n",
    "    if target is not None:\n",
    "        # Third subplot (bar)\n",
    "        sns.countplot(data=df, x=feat, hue=target, ax=axes[2])\n",
    "        axes[2].set_title(\"{} Value Counts with Hue (Bar)\".format(feat))\n",
    "        axes[2].set_xlabel(\"{}\".format(feat))\n",
    "        axes[2].set_ylabel(\"Count\")\n",
    "\n",
    "\n",
    "    # Adjust layout\n",
    "    plt.tight_layout()\n",
    "\n",
    "    # Show the plots\n",
    "    plt.show()\n",
    "    \n",
    "    print('-------------Analysis of {} ----------\\n'.format(feat))\n",
    "    print('Value Counts in {}\\n'.format(feat), df[feat].value_counts(), '\\n')\n",
    "    print('Number of missing values in {}:'.format(feat), df[feat].nunique(), '\\n')"
   ],
   "metadata": {
    "collapsed": false,
    "ExecuteTime": {
     "end_time": "2023-11-04T19:04:16.598204800Z",
     "start_time": "2023-11-04T19:04:16.479927900Z"
    }
   },
   "id": "635e6fe5d4072381"
  },
  {
   "cell_type": "code",
   "execution_count": 82,
   "outputs": [],
   "source": [
    "# for feat in high_card:\n",
    "#     analyse_high_cardinality(X, feat)\n",
    "# \n",
    "# for feat in low_card:\n",
    "#     analyse_low_cardinality(train_data_full,feat,'Transported')"
   ],
   "metadata": {
    "collapsed": false,
    "ExecuteTime": {
     "end_time": "2023-11-04T19:04:17.154169700Z",
     "start_time": "2023-11-04T19:04:17.086825500Z"
    }
   },
   "id": "718fe6f26af78b50"
  },
  {
   "cell_type": "markdown",
   "source": [
    "# baseline"
   ],
   "metadata": {
    "collapsed": false
   },
   "id": "249adf76836fa29c"
  },
  {
   "cell_type": "code",
   "execution_count": 83,
   "outputs": [
    {
     "data": {
      "text/plain": "     HomePlanet CryoSleep    Destination   Age    VIP  RoomService  FoodCourt  \\\n0        Europa     False    TRAPPIST-1e  39.0  False          0.0        0.0   \n1         Earth     False    TRAPPIST-1e  24.0  False        109.0        9.0   \n2        Europa     False    TRAPPIST-1e  58.0   True         43.0     3576.0   \n3        Europa     False    TRAPPIST-1e  33.0  False          0.0     1283.0   \n4         Earth     False    TRAPPIST-1e  16.0  False        303.0       70.0   \n...         ...       ...            ...   ...    ...          ...        ...   \n8688     Europa     False    55 Cancri e  41.0   True          0.0     6819.0   \n8689      Earth      True  PSO J318.5-22  18.0  False          0.0        0.0   \n8690      Earth     False    TRAPPIST-1e  26.0  False          0.0        0.0   \n8691     Europa     False    55 Cancri e  32.0  False          0.0     1049.0   \n8692     Europa     False    TRAPPIST-1e  44.0  False        126.0     4688.0   \n\n      ShoppingMall     Spa  VRDeck  \n0              0.0     0.0     0.0  \n1             25.0   549.0    44.0  \n2              0.0  6715.0    49.0  \n3            371.0  3329.0   193.0  \n4            151.0   565.0     2.0  \n...            ...     ...     ...  \n8688           0.0  1643.0    74.0  \n8689           0.0     0.0     0.0  \n8690        1872.0     1.0     0.0  \n8691           0.0   353.0  3235.0  \n8692           0.0     0.0    12.0  \n\n[8693 rows x 10 columns]",
      "text/html": "<div>\n<style scoped>\n    .dataframe tbody tr th:only-of-type {\n        vertical-align: middle;\n    }\n\n    .dataframe tbody tr th {\n        vertical-align: top;\n    }\n\n    .dataframe thead th {\n        text-align: right;\n    }\n</style>\n<table border=\"1\" class=\"dataframe\">\n  <thead>\n    <tr style=\"text-align: right;\">\n      <th></th>\n      <th>HomePlanet</th>\n      <th>CryoSleep</th>\n      <th>Destination</th>\n      <th>Age</th>\n      <th>VIP</th>\n      <th>RoomService</th>\n      <th>FoodCourt</th>\n      <th>ShoppingMall</th>\n      <th>Spa</th>\n      <th>VRDeck</th>\n    </tr>\n  </thead>\n  <tbody>\n    <tr>\n      <th>0</th>\n      <td>Europa</td>\n      <td>False</td>\n      <td>TRAPPIST-1e</td>\n      <td>39.0</td>\n      <td>False</td>\n      <td>0.0</td>\n      <td>0.0</td>\n      <td>0.0</td>\n      <td>0.0</td>\n      <td>0.0</td>\n    </tr>\n    <tr>\n      <th>1</th>\n      <td>Earth</td>\n      <td>False</td>\n      <td>TRAPPIST-1e</td>\n      <td>24.0</td>\n      <td>False</td>\n      <td>109.0</td>\n      <td>9.0</td>\n      <td>25.0</td>\n      <td>549.0</td>\n      <td>44.0</td>\n    </tr>\n    <tr>\n      <th>2</th>\n      <td>Europa</td>\n      <td>False</td>\n      <td>TRAPPIST-1e</td>\n      <td>58.0</td>\n      <td>True</td>\n      <td>43.0</td>\n      <td>3576.0</td>\n      <td>0.0</td>\n      <td>6715.0</td>\n      <td>49.0</td>\n    </tr>\n    <tr>\n      <th>3</th>\n      <td>Europa</td>\n      <td>False</td>\n      <td>TRAPPIST-1e</td>\n      <td>33.0</td>\n      <td>False</td>\n      <td>0.0</td>\n      <td>1283.0</td>\n      <td>371.0</td>\n      <td>3329.0</td>\n      <td>193.0</td>\n    </tr>\n    <tr>\n      <th>4</th>\n      <td>Earth</td>\n      <td>False</td>\n      <td>TRAPPIST-1e</td>\n      <td>16.0</td>\n      <td>False</td>\n      <td>303.0</td>\n      <td>70.0</td>\n      <td>151.0</td>\n      <td>565.0</td>\n      <td>2.0</td>\n    </tr>\n    <tr>\n      <th>...</th>\n      <td>...</td>\n      <td>...</td>\n      <td>...</td>\n      <td>...</td>\n      <td>...</td>\n      <td>...</td>\n      <td>...</td>\n      <td>...</td>\n      <td>...</td>\n      <td>...</td>\n    </tr>\n    <tr>\n      <th>8688</th>\n      <td>Europa</td>\n      <td>False</td>\n      <td>55 Cancri e</td>\n      <td>41.0</td>\n      <td>True</td>\n      <td>0.0</td>\n      <td>6819.0</td>\n      <td>0.0</td>\n      <td>1643.0</td>\n      <td>74.0</td>\n    </tr>\n    <tr>\n      <th>8689</th>\n      <td>Earth</td>\n      <td>True</td>\n      <td>PSO J318.5-22</td>\n      <td>18.0</td>\n      <td>False</td>\n      <td>0.0</td>\n      <td>0.0</td>\n      <td>0.0</td>\n      <td>0.0</td>\n      <td>0.0</td>\n    </tr>\n    <tr>\n      <th>8690</th>\n      <td>Earth</td>\n      <td>False</td>\n      <td>TRAPPIST-1e</td>\n      <td>26.0</td>\n      <td>False</td>\n      <td>0.0</td>\n      <td>0.0</td>\n      <td>1872.0</td>\n      <td>1.0</td>\n      <td>0.0</td>\n    </tr>\n    <tr>\n      <th>8691</th>\n      <td>Europa</td>\n      <td>False</td>\n      <td>55 Cancri e</td>\n      <td>32.0</td>\n      <td>False</td>\n      <td>0.0</td>\n      <td>1049.0</td>\n      <td>0.0</td>\n      <td>353.0</td>\n      <td>3235.0</td>\n    </tr>\n    <tr>\n      <th>8692</th>\n      <td>Europa</td>\n      <td>False</td>\n      <td>TRAPPIST-1e</td>\n      <td>44.0</td>\n      <td>False</td>\n      <td>126.0</td>\n      <td>4688.0</td>\n      <td>0.0</td>\n      <td>0.0</td>\n      <td>12.0</td>\n    </tr>\n  </tbody>\n</table>\n<p>8693 rows × 10 columns</p>\n</div>"
     },
     "execution_count": 83,
     "metadata": {},
     "output_type": "execute_result"
    }
   ],
   "source": [
    "X_baseline = X.copy()\n",
    "y_baseline = y_train.copy()\n",
    "X_baseline = X_baseline[:train_len]\n",
    "\n",
    "# removing high cardinality features for baseline analysis - names and cabin and id  \n",
    "X_baseline = X_baseline.drop(['PassengerId','Cabin', 'Name'], axis=1)\n",
    "X_baseline\n"
   ],
   "metadata": {
    "collapsed": false,
    "ExecuteTime": {
     "end_time": "2023-11-04T19:04:18.130691600Z",
     "start_time": "2023-11-04T19:04:17.969824100Z"
    }
   },
   "id": "2545577f39edf205"
  },
  {
   "cell_type": "markdown",
   "source": [
    "for the baseline ill use the best model for structured data, XGBclassifier.\n",
    "- first lets look at the accuracy score with basic ordinal encoding and no CV "
   ],
   "metadata": {
    "collapsed": false
   },
   "id": "5f6900739c6e659b"
  },
  {
   "cell_type": "code",
   "execution_count": 84,
   "outputs": [],
   "source": [
    "from sklearn.compose import ColumnTransformer\n",
    "from sklearn.pipeline import Pipeline\n",
    "from sklearn.impute import SimpleImputer\n",
    "from sklearn.preprocessing import OneHotEncoder\n",
    "from sklearn.model_selection import train_test_split\n",
    "from sklearn.metrics import accuracy_score\n",
    "from xgboost import XGBClassifier\n",
    "from sklearn.model_selection import cross_val_score\n"
   ],
   "metadata": {
    "collapsed": false,
    "ExecuteTime": {
     "end_time": "2023-11-04T19:04:19.591824500Z",
     "start_time": "2023-11-04T19:04:19.395915500Z"
    }
   },
   "id": "2862cb65cf14f0f2"
  },
  {
   "cell_type": "code",
   "execution_count": 85,
   "outputs": [
    {
     "name": "stdout",
     "output_type": "stream",
     "text": [
      "0.7746090156393745\n"
     ]
    }
   ],
   "source": [
    "X_bl1 = X_baseline.copy()\n",
    "y_bl1 = y_baseline.copy()\n",
    "# Label encoding for categoricals\n",
    "for colname in X_bl1.select_dtypes([\"category\", \"object\"]):\n",
    "    X_bl1[colname], _ = X_bl1[colname].factorize()\n",
    "    \n",
    "# Load and preprocess your dataset \n",
    "X_train, X_valid, y_train, y_valid = train_test_split(X_bl1, y_bl1, train_size=0.75, test_size=0.25, random_state=42)\n",
    "\n",
    "model = XGBClassifier()\n",
    "model.fit(X_train,y_train)\n",
    "y_pred = model.predict(X_valid)\n",
    "print(accuracy_score(y_pred,y_valid))"
   ],
   "metadata": {
    "collapsed": false,
    "ExecuteTime": {
     "end_time": "2023-11-04T19:04:22.737679100Z",
     "start_time": "2023-11-04T19:04:20.126910900Z"
    }
   },
   "id": "769eb5fdb5fb63cc"
  },
  {
   "cell_type": "markdown",
   "source": [
    "- with 5 fold CV"
   ],
   "metadata": {
    "collapsed": false
   },
   "id": "da0c506f70a03cb"
  },
  {
   "cell_type": "code",
   "execution_count": 86,
   "outputs": [
    {
     "name": "stdout",
     "output_type": "stream",
     "text": [
      "0.7876468957266157\n"
     ]
    }
   ],
   "source": [
    "def get_score_XGB(X, y, k=5, model=XGBClassifier()):\n",
    "    # Label encoding for categoricals\n",
    "    X_scope = X.copy()\n",
    "    y_scope = y.copy()\n",
    "    for colname in X_scope.select_dtypes([\"category\", \"object\"]):\n",
    "        X_scope[colname], _ = X_scope[colname].factorize()\n",
    "    score = cross_val_score(\n",
    "        model, X_scope, y_scope, cv=k, scoring=\"accuracy\",\n",
    "    )\n",
    "    score = score.mean()\n",
    "    return score\n",
    "X_bl2 = X_baseline.copy()\n",
    "y_bl2 = y_baseline.copy()\n",
    "print(get_score_XGB(X_bl2,y_bl2,5))"
   ],
   "metadata": {
    "collapsed": false,
    "ExecuteTime": {
     "end_time": "2023-11-04T19:04:29.783367800Z",
     "start_time": "2023-11-04T19:04:22.743229600Z"
    }
   },
   "id": "713446a4d05d4741"
  },
  {
   "cell_type": "markdown",
   "source": [
    "- with pipelines and one-hot encoding"
   ],
   "metadata": {
    "collapsed": false
   },
   "id": "9ff682ce3f495b9f"
  },
  {
   "cell_type": "code",
   "execution_count": 87,
   "outputs": [
    {
     "data": {
      "text/plain": "     HomePlanet CryoSleep    Destination   Age    VIP  RoomService  FoodCourt  \\\n0        Europa     False    TRAPPIST-1e  39.0  False          0.0        0.0   \n1         Earth     False    TRAPPIST-1e  24.0  False        109.0        9.0   \n2        Europa     False    TRAPPIST-1e  58.0   True         43.0     3576.0   \n3        Europa     False    TRAPPIST-1e  33.0  False          0.0     1283.0   \n4         Earth     False    TRAPPIST-1e  16.0  False        303.0       70.0   \n...         ...       ...            ...   ...    ...          ...        ...   \n8688     Europa     False    55 Cancri e  41.0   True          0.0     6819.0   \n8689      Earth      True  PSO J318.5-22  18.0  False          0.0        0.0   \n8690      Earth     False    TRAPPIST-1e  26.0  False          0.0        0.0   \n8691     Europa     False    55 Cancri e  32.0  False          0.0     1049.0   \n8692     Europa     False    TRAPPIST-1e  44.0  False        126.0     4688.0   \n\n      ShoppingMall     Spa  VRDeck  \n0              0.0     0.0     0.0  \n1             25.0   549.0    44.0  \n2              0.0  6715.0    49.0  \n3            371.0  3329.0   193.0  \n4            151.0   565.0     2.0  \n...            ...     ...     ...  \n8688           0.0  1643.0    74.0  \n8689           0.0     0.0     0.0  \n8690        1872.0     1.0     0.0  \n8691           0.0   353.0  3235.0  \n8692           0.0     0.0    12.0  \n\n[8693 rows x 10 columns]",
      "text/html": "<div>\n<style scoped>\n    .dataframe tbody tr th:only-of-type {\n        vertical-align: middle;\n    }\n\n    .dataframe tbody tr th {\n        vertical-align: top;\n    }\n\n    .dataframe thead th {\n        text-align: right;\n    }\n</style>\n<table border=\"1\" class=\"dataframe\">\n  <thead>\n    <tr style=\"text-align: right;\">\n      <th></th>\n      <th>HomePlanet</th>\n      <th>CryoSleep</th>\n      <th>Destination</th>\n      <th>Age</th>\n      <th>VIP</th>\n      <th>RoomService</th>\n      <th>FoodCourt</th>\n      <th>ShoppingMall</th>\n      <th>Spa</th>\n      <th>VRDeck</th>\n    </tr>\n  </thead>\n  <tbody>\n    <tr>\n      <th>0</th>\n      <td>Europa</td>\n      <td>False</td>\n      <td>TRAPPIST-1e</td>\n      <td>39.0</td>\n      <td>False</td>\n      <td>0.0</td>\n      <td>0.0</td>\n      <td>0.0</td>\n      <td>0.0</td>\n      <td>0.0</td>\n    </tr>\n    <tr>\n      <th>1</th>\n      <td>Earth</td>\n      <td>False</td>\n      <td>TRAPPIST-1e</td>\n      <td>24.0</td>\n      <td>False</td>\n      <td>109.0</td>\n      <td>9.0</td>\n      <td>25.0</td>\n      <td>549.0</td>\n      <td>44.0</td>\n    </tr>\n    <tr>\n      <th>2</th>\n      <td>Europa</td>\n      <td>False</td>\n      <td>TRAPPIST-1e</td>\n      <td>58.0</td>\n      <td>True</td>\n      <td>43.0</td>\n      <td>3576.0</td>\n      <td>0.0</td>\n      <td>6715.0</td>\n      <td>49.0</td>\n    </tr>\n    <tr>\n      <th>3</th>\n      <td>Europa</td>\n      <td>False</td>\n      <td>TRAPPIST-1e</td>\n      <td>33.0</td>\n      <td>False</td>\n      <td>0.0</td>\n      <td>1283.0</td>\n      <td>371.0</td>\n      <td>3329.0</td>\n      <td>193.0</td>\n    </tr>\n    <tr>\n      <th>4</th>\n      <td>Earth</td>\n      <td>False</td>\n      <td>TRAPPIST-1e</td>\n      <td>16.0</td>\n      <td>False</td>\n      <td>303.0</td>\n      <td>70.0</td>\n      <td>151.0</td>\n      <td>565.0</td>\n      <td>2.0</td>\n    </tr>\n    <tr>\n      <th>...</th>\n      <td>...</td>\n      <td>...</td>\n      <td>...</td>\n      <td>...</td>\n      <td>...</td>\n      <td>...</td>\n      <td>...</td>\n      <td>...</td>\n      <td>...</td>\n      <td>...</td>\n    </tr>\n    <tr>\n      <th>8688</th>\n      <td>Europa</td>\n      <td>False</td>\n      <td>55 Cancri e</td>\n      <td>41.0</td>\n      <td>True</td>\n      <td>0.0</td>\n      <td>6819.0</td>\n      <td>0.0</td>\n      <td>1643.0</td>\n      <td>74.0</td>\n    </tr>\n    <tr>\n      <th>8689</th>\n      <td>Earth</td>\n      <td>True</td>\n      <td>PSO J318.5-22</td>\n      <td>18.0</td>\n      <td>False</td>\n      <td>0.0</td>\n      <td>0.0</td>\n      <td>0.0</td>\n      <td>0.0</td>\n      <td>0.0</td>\n    </tr>\n    <tr>\n      <th>8690</th>\n      <td>Earth</td>\n      <td>False</td>\n      <td>TRAPPIST-1e</td>\n      <td>26.0</td>\n      <td>False</td>\n      <td>0.0</td>\n      <td>0.0</td>\n      <td>1872.0</td>\n      <td>1.0</td>\n      <td>0.0</td>\n    </tr>\n    <tr>\n      <th>8691</th>\n      <td>Europa</td>\n      <td>False</td>\n      <td>55 Cancri e</td>\n      <td>32.0</td>\n      <td>False</td>\n      <td>0.0</td>\n      <td>1049.0</td>\n      <td>0.0</td>\n      <td>353.0</td>\n      <td>3235.0</td>\n    </tr>\n    <tr>\n      <th>8692</th>\n      <td>Europa</td>\n      <td>False</td>\n      <td>TRAPPIST-1e</td>\n      <td>44.0</td>\n      <td>False</td>\n      <td>126.0</td>\n      <td>4688.0</td>\n      <td>0.0</td>\n      <td>0.0</td>\n      <td>12.0</td>\n    </tr>\n  </tbody>\n</table>\n<p>8693 rows × 10 columns</p>\n</div>"
     },
     "execution_count": 87,
     "metadata": {},
     "output_type": "execute_result"
    }
   ],
   "source": [
    "X_baseline"
   ],
   "metadata": {
    "collapsed": false,
    "ExecuteTime": {
     "end_time": "2023-11-04T19:04:30.026905600Z",
     "start_time": "2023-11-04T19:04:29.753311800Z"
    }
   },
   "id": "e48ddb67bdc96cc9"
  },
  {
   "cell_type": "code",
   "execution_count": 88,
   "outputs": [
    {
     "name": "stdout",
     "output_type": "stream",
     "text": [
      "0.785231317550197\n"
     ]
    }
   ],
   "source": [
    "one_hot_features = ['HomePlanet', 'CryoSleep', 'Destination', 'VIP']\n",
    "mean_features = numeric_features\n",
    "X_bl3 = X_baseline.copy()\n",
    "y_bl3 = y_baseline.copy()\n",
    "\n",
    "# Create transformers for different types of features\n",
    "categorical_transformer = Pipeline(steps=[\n",
    "    ('imputer', SimpleImputer(strategy='most_frequent')),\n",
    "    ('onehot', OneHotEncoder(handle_unknown='ignore'))\n",
    "])\n",
    "\n",
    "numerical_transformer = Pipeline(steps=[\n",
    "    ('imputer', SimpleImputer(strategy='mean'))\n",
    "])\n",
    "\n",
    "# Create a column transformer to apply the appropriate transformers to the features\n",
    "preprocessor = ColumnTransformer(\n",
    "    transformers=[\n",
    "        ('cat', categorical_transformer, one_hot_features),\n",
    "        ('num', numerical_transformer, mean_features)\n",
    "    ])\n",
    "\n",
    "# Create a final pipeline with preprocessing and your machine learning model\n",
    "pipeline = Pipeline(steps=[('preprocessor', preprocessor),\n",
    "                           ('model', XGBClassifier())])\n",
    "\n",
    "score = cross_val_score(\n",
    "    pipeline, X_bl3, y_bl3, cv=5, scoring=\"accuracy\",\n",
    ")\n",
    "print(score.mean())"
   ],
   "metadata": {
    "collapsed": false,
    "ExecuteTime": {
     "end_time": "2023-11-04T19:04:36.454817300Z",
     "start_time": "2023-11-04T19:04:29.818185800Z"
    }
   },
   "id": "b507c4724cd84c32"
  },
  {
   "cell_type": "markdown",
   "source": [
    "- Baseline accuracy of model using the 3 different methods is: 1) 77.4% 2) 78.6%  3) 78.5% "
   ],
   "metadata": {
    "collapsed": false
   },
   "id": "5917781a810b0a27"
  },
  {
   "cell_type": "markdown",
   "source": [
    "# Missing Values"
   ],
   "metadata": {
    "collapsed": false
   },
   "id": "7c84f7538c9a0a58"
  },
  {
   "cell_type": "code",
   "execution_count": 89,
   "outputs": [
    {
     "data": {
      "text/plain": "CryoSleep       310\nShoppingMall    306\nCabin           299\nVIP             296\nName            294\nFoodCourt       289\nHomePlanet      288\nSpa             284\nDestination     274\nAge             270\nVRDeck          268\nRoomService     263\nPassengerId       0\ndtype: int64"
     },
     "execution_count": 89,
     "metadata": {},
     "output_type": "execute_result"
    }
   ],
   "source": [
    "X.isna().sum().sort_values(ascending=False)\n"
   ],
   "metadata": {
    "collapsed": false,
    "ExecuteTime": {
     "end_time": "2023-11-04T19:04:36.456825100Z",
     "start_time": "2023-11-04T19:04:36.392127500Z"
    }
   },
   "id": "d33e0ea33ab3316e"
  },
  {
   "cell_type": "code",
   "execution_count": 90,
   "outputs": [
    {
     "name": "stdout",
     "output_type": "stream",
     "text": [
      "['Age', 'RoomService', 'FoodCourt', 'ShoppingMall', 'Spa', 'VRDeck']\n",
      "['PassengerId', 'HomePlanet', 'CryoSleep', 'Cabin', 'Destination', 'VIP', 'Name']\n",
      "['Cabin', 'Name']\n",
      "['HomePlanet', 'CryoSleep', 'Destination', 'VIP']\n"
     ]
    },
    {
     "data": {
      "text/plain": "     PassengerId HomePlanet CryoSleep     Cabin    Destination   Age    VIP  \\\n0        0001_01     Europa     False     B/0/P    TRAPPIST-1e  39.0  False   \n1        0002_01      Earth     False     F/0/S    TRAPPIST-1e  24.0  False   \n2        0003_01     Europa     False     A/0/S    TRAPPIST-1e  58.0   True   \n3        0003_02     Europa     False     A/0/S    TRAPPIST-1e  33.0  False   \n4        0004_01      Earth     False     F/1/S    TRAPPIST-1e  16.0  False   \n...          ...        ...       ...       ...            ...   ...    ...   \n4272     9266_02      Earth      True  G/1496/S    TRAPPIST-1e  34.0  False   \n4273     9269_01      Earth     False       NaN    TRAPPIST-1e  42.0  False   \n4274     9271_01       Mars      True   D/296/P    55 Cancri e   NaN  False   \n4275     9273_01     Europa     False   D/297/P            NaN   NaN  False   \n4276     9277_01      Earth      True  G/1498/S  PSO J318.5-22  43.0  False   \n\n      RoomService  FoodCourt  ShoppingMall     Spa  VRDeck               Name  \n0             0.0        0.0           0.0     0.0     0.0    Maham Ofracculy  \n1           109.0        9.0          25.0   549.0    44.0       Juanna Vines  \n2            43.0     3576.0           0.0  6715.0    49.0      Altark Susent  \n3             0.0     1283.0         371.0  3329.0   193.0       Solam Susent  \n4           303.0       70.0         151.0   565.0     2.0  Willy Santantines  \n...           ...        ...           ...     ...     ...                ...  \n4272          0.0        0.0           0.0     0.0     0.0        Jeron Peter  \n4273          0.0      847.0          17.0    10.0   144.0      Matty Scheron  \n4274          0.0        0.0           0.0     0.0     0.0        Jayrin Pore  \n4275          0.0     2680.0           0.0     0.0   523.0     Kitakan Conale  \n4276          0.0        0.0           0.0     0.0     0.0   Lilace Leonzaley  \n\n[12970 rows x 13 columns]",
      "text/html": "<div>\n<style scoped>\n    .dataframe tbody tr th:only-of-type {\n        vertical-align: middle;\n    }\n\n    .dataframe tbody tr th {\n        vertical-align: top;\n    }\n\n    .dataframe thead th {\n        text-align: right;\n    }\n</style>\n<table border=\"1\" class=\"dataframe\">\n  <thead>\n    <tr style=\"text-align: right;\">\n      <th></th>\n      <th>PassengerId</th>\n      <th>HomePlanet</th>\n      <th>CryoSleep</th>\n      <th>Cabin</th>\n      <th>Destination</th>\n      <th>Age</th>\n      <th>VIP</th>\n      <th>RoomService</th>\n      <th>FoodCourt</th>\n      <th>ShoppingMall</th>\n      <th>Spa</th>\n      <th>VRDeck</th>\n      <th>Name</th>\n    </tr>\n  </thead>\n  <tbody>\n    <tr>\n      <th>0</th>\n      <td>0001_01</td>\n      <td>Europa</td>\n      <td>False</td>\n      <td>B/0/P</td>\n      <td>TRAPPIST-1e</td>\n      <td>39.0</td>\n      <td>False</td>\n      <td>0.0</td>\n      <td>0.0</td>\n      <td>0.0</td>\n      <td>0.0</td>\n      <td>0.0</td>\n      <td>Maham Ofracculy</td>\n    </tr>\n    <tr>\n      <th>1</th>\n      <td>0002_01</td>\n      <td>Earth</td>\n      <td>False</td>\n      <td>F/0/S</td>\n      <td>TRAPPIST-1e</td>\n      <td>24.0</td>\n      <td>False</td>\n      <td>109.0</td>\n      <td>9.0</td>\n      <td>25.0</td>\n      <td>549.0</td>\n      <td>44.0</td>\n      <td>Juanna Vines</td>\n    </tr>\n    <tr>\n      <th>2</th>\n      <td>0003_01</td>\n      <td>Europa</td>\n      <td>False</td>\n      <td>A/0/S</td>\n      <td>TRAPPIST-1e</td>\n      <td>58.0</td>\n      <td>True</td>\n      <td>43.0</td>\n      <td>3576.0</td>\n      <td>0.0</td>\n      <td>6715.0</td>\n      <td>49.0</td>\n      <td>Altark Susent</td>\n    </tr>\n    <tr>\n      <th>3</th>\n      <td>0003_02</td>\n      <td>Europa</td>\n      <td>False</td>\n      <td>A/0/S</td>\n      <td>TRAPPIST-1e</td>\n      <td>33.0</td>\n      <td>False</td>\n      <td>0.0</td>\n      <td>1283.0</td>\n      <td>371.0</td>\n      <td>3329.0</td>\n      <td>193.0</td>\n      <td>Solam Susent</td>\n    </tr>\n    <tr>\n      <th>4</th>\n      <td>0004_01</td>\n      <td>Earth</td>\n      <td>False</td>\n      <td>F/1/S</td>\n      <td>TRAPPIST-1e</td>\n      <td>16.0</td>\n      <td>False</td>\n      <td>303.0</td>\n      <td>70.0</td>\n      <td>151.0</td>\n      <td>565.0</td>\n      <td>2.0</td>\n      <td>Willy Santantines</td>\n    </tr>\n    <tr>\n      <th>...</th>\n      <td>...</td>\n      <td>...</td>\n      <td>...</td>\n      <td>...</td>\n      <td>...</td>\n      <td>...</td>\n      <td>...</td>\n      <td>...</td>\n      <td>...</td>\n      <td>...</td>\n      <td>...</td>\n      <td>...</td>\n      <td>...</td>\n    </tr>\n    <tr>\n      <th>4272</th>\n      <td>9266_02</td>\n      <td>Earth</td>\n      <td>True</td>\n      <td>G/1496/S</td>\n      <td>TRAPPIST-1e</td>\n      <td>34.0</td>\n      <td>False</td>\n      <td>0.0</td>\n      <td>0.0</td>\n      <td>0.0</td>\n      <td>0.0</td>\n      <td>0.0</td>\n      <td>Jeron Peter</td>\n    </tr>\n    <tr>\n      <th>4273</th>\n      <td>9269_01</td>\n      <td>Earth</td>\n      <td>False</td>\n      <td>NaN</td>\n      <td>TRAPPIST-1e</td>\n      <td>42.0</td>\n      <td>False</td>\n      <td>0.0</td>\n      <td>847.0</td>\n      <td>17.0</td>\n      <td>10.0</td>\n      <td>144.0</td>\n      <td>Matty Scheron</td>\n    </tr>\n    <tr>\n      <th>4274</th>\n      <td>9271_01</td>\n      <td>Mars</td>\n      <td>True</td>\n      <td>D/296/P</td>\n      <td>55 Cancri e</td>\n      <td>NaN</td>\n      <td>False</td>\n      <td>0.0</td>\n      <td>0.0</td>\n      <td>0.0</td>\n      <td>0.0</td>\n      <td>0.0</td>\n      <td>Jayrin Pore</td>\n    </tr>\n    <tr>\n      <th>4275</th>\n      <td>9273_01</td>\n      <td>Europa</td>\n      <td>False</td>\n      <td>D/297/P</td>\n      <td>NaN</td>\n      <td>NaN</td>\n      <td>False</td>\n      <td>0.0</td>\n      <td>2680.0</td>\n      <td>0.0</td>\n      <td>0.0</td>\n      <td>523.0</td>\n      <td>Kitakan Conale</td>\n    </tr>\n    <tr>\n      <th>4276</th>\n      <td>9277_01</td>\n      <td>Earth</td>\n      <td>True</td>\n      <td>G/1498/S</td>\n      <td>PSO J318.5-22</td>\n      <td>43.0</td>\n      <td>False</td>\n      <td>0.0</td>\n      <td>0.0</td>\n      <td>0.0</td>\n      <td>0.0</td>\n      <td>0.0</td>\n      <td>Lilace Leonzaley</td>\n    </tr>\n  </tbody>\n</table>\n<p>12970 rows × 13 columns</p>\n</div>"
     },
     "execution_count": 90,
     "metadata": {},
     "output_type": "execute_result"
    }
   ],
   "source": [
    "print(numeric_features)\n",
    "print(categorical_features)\n",
    "print(high_card)\n",
    "print(low_card)\n",
    "X"
   ],
   "metadata": {
    "collapsed": false,
    "ExecuteTime": {
     "end_time": "2023-11-04T19:04:36.802866500Z",
     "start_time": "2023-11-04T19:04:36.422371200Z"
    }
   },
   "id": "53ed08f812430eab"
  },
  {
   "cell_type": "code",
   "execution_count": 91,
   "outputs": [],
   "source": [
    "def numeric_fill(X,col):\n",
    "    mean = X[col].mean()\n",
    "    X[col].fillna(mean, inplace=True)\n",
    "def categorical_fill(X,col):\n",
    "    if col in high_card:\n",
    "        X[col].fillna('Unknown',inplace=True)\n",
    "    else:\n",
    "        X[col].fillna(X[col].mode()[0],inplace=True)"
   ],
   "metadata": {
    "collapsed": false,
    "ExecuteTime": {
     "end_time": "2023-11-04T19:04:36.804291500Z",
     "start_time": "2023-11-04T19:04:36.511397500Z"
    }
   },
   "id": "69f8600d93c706b"
  },
  {
   "cell_type": "code",
   "execution_count": 92,
   "outputs": [],
   "source": [
    "for col in numeric_features:\n",
    "    numeric_fill(X,col)\n",
    "for col in categorical_features:\n",
    "    categorical_fill(X,col)"
   ],
   "metadata": {
    "collapsed": false,
    "ExecuteTime": {
     "end_time": "2023-11-04T19:04:36.829706500Z",
     "start_time": "2023-11-04T19:04:36.521912500Z"
    }
   },
   "id": "b61e60e8b6796827"
  },
  {
   "cell_type": "code",
   "execution_count": 93,
   "outputs": [
    {
     "data": {
      "text/plain": "PassengerId     0\nHomePlanet      0\nCryoSleep       0\nCabin           0\nDestination     0\nAge             0\nVIP             0\nRoomService     0\nFoodCourt       0\nShoppingMall    0\nSpa             0\nVRDeck          0\nName            0\ndtype: int64"
     },
     "execution_count": 93,
     "metadata": {},
     "output_type": "execute_result"
    }
   ],
   "source": [
    "X.isna().sum().sort_values(ascending=False)"
   ],
   "metadata": {
    "collapsed": false,
    "ExecuteTime": {
     "end_time": "2023-11-04T19:04:36.848554Z",
     "start_time": "2023-11-04T19:04:36.621795400Z"
    }
   },
   "id": "2bc3361f79b821d3"
  },
  {
   "cell_type": "code",
   "execution_count": 94,
   "outputs": [
    {
     "data": {
      "text/plain": "     PassengerId HomePlanet  CryoSleep     Cabin    Destination        Age  \\\n0        0001_01     Europa      False     B/0/P    TRAPPIST-1e  39.000000   \n1        0002_01      Earth      False     F/0/S    TRAPPIST-1e  24.000000   \n2        0003_01     Europa      False     A/0/S    TRAPPIST-1e  58.000000   \n3        0003_02     Europa      False     A/0/S    TRAPPIST-1e  33.000000   \n4        0004_01      Earth      False     F/1/S    TRAPPIST-1e  16.000000   \n...          ...        ...        ...       ...            ...        ...   \n4272     9266_02      Earth       True  G/1496/S    TRAPPIST-1e  34.000000   \n4273     9269_01      Earth      False   Unknown    TRAPPIST-1e  42.000000   \n4274     9271_01       Mars       True   D/296/P    55 Cancri e  28.771969   \n4275     9273_01     Europa      False   D/297/P    TRAPPIST-1e  28.771969   \n4276     9277_01      Earth       True  G/1498/S  PSO J318.5-22  43.000000   \n\n        VIP  RoomService  FoodCourt  ShoppingMall     Spa  VRDeck  \\\n0     False          0.0        0.0           0.0     0.0     0.0   \n1     False        109.0        9.0          25.0   549.0    44.0   \n2      True         43.0     3576.0           0.0  6715.0    49.0   \n3     False          0.0     1283.0         371.0  3329.0   193.0   \n4     False        303.0       70.0         151.0   565.0     2.0   \n...     ...          ...        ...           ...     ...     ...   \n4272  False          0.0        0.0           0.0     0.0     0.0   \n4273  False          0.0      847.0          17.0    10.0   144.0   \n4274  False          0.0        0.0           0.0     0.0     0.0   \n4275  False          0.0     2680.0           0.0     0.0   523.0   \n4276  False          0.0        0.0           0.0     0.0     0.0   \n\n                   Name  \n0       Maham Ofracculy  \n1          Juanna Vines  \n2         Altark Susent  \n3          Solam Susent  \n4     Willy Santantines  \n...                 ...  \n4272        Jeron Peter  \n4273      Matty Scheron  \n4274        Jayrin Pore  \n4275     Kitakan Conale  \n4276   Lilace Leonzaley  \n\n[12970 rows x 13 columns]",
      "text/html": "<div>\n<style scoped>\n    .dataframe tbody tr th:only-of-type {\n        vertical-align: middle;\n    }\n\n    .dataframe tbody tr th {\n        vertical-align: top;\n    }\n\n    .dataframe thead th {\n        text-align: right;\n    }\n</style>\n<table border=\"1\" class=\"dataframe\">\n  <thead>\n    <tr style=\"text-align: right;\">\n      <th></th>\n      <th>PassengerId</th>\n      <th>HomePlanet</th>\n      <th>CryoSleep</th>\n      <th>Cabin</th>\n      <th>Destination</th>\n      <th>Age</th>\n      <th>VIP</th>\n      <th>RoomService</th>\n      <th>FoodCourt</th>\n      <th>ShoppingMall</th>\n      <th>Spa</th>\n      <th>VRDeck</th>\n      <th>Name</th>\n    </tr>\n  </thead>\n  <tbody>\n    <tr>\n      <th>0</th>\n      <td>0001_01</td>\n      <td>Europa</td>\n      <td>False</td>\n      <td>B/0/P</td>\n      <td>TRAPPIST-1e</td>\n      <td>39.000000</td>\n      <td>False</td>\n      <td>0.0</td>\n      <td>0.0</td>\n      <td>0.0</td>\n      <td>0.0</td>\n      <td>0.0</td>\n      <td>Maham Ofracculy</td>\n    </tr>\n    <tr>\n      <th>1</th>\n      <td>0002_01</td>\n      <td>Earth</td>\n      <td>False</td>\n      <td>F/0/S</td>\n      <td>TRAPPIST-1e</td>\n      <td>24.000000</td>\n      <td>False</td>\n      <td>109.0</td>\n      <td>9.0</td>\n      <td>25.0</td>\n      <td>549.0</td>\n      <td>44.0</td>\n      <td>Juanna Vines</td>\n    </tr>\n    <tr>\n      <th>2</th>\n      <td>0003_01</td>\n      <td>Europa</td>\n      <td>False</td>\n      <td>A/0/S</td>\n      <td>TRAPPIST-1e</td>\n      <td>58.000000</td>\n      <td>True</td>\n      <td>43.0</td>\n      <td>3576.0</td>\n      <td>0.0</td>\n      <td>6715.0</td>\n      <td>49.0</td>\n      <td>Altark Susent</td>\n    </tr>\n    <tr>\n      <th>3</th>\n      <td>0003_02</td>\n      <td>Europa</td>\n      <td>False</td>\n      <td>A/0/S</td>\n      <td>TRAPPIST-1e</td>\n      <td>33.000000</td>\n      <td>False</td>\n      <td>0.0</td>\n      <td>1283.0</td>\n      <td>371.0</td>\n      <td>3329.0</td>\n      <td>193.0</td>\n      <td>Solam Susent</td>\n    </tr>\n    <tr>\n      <th>4</th>\n      <td>0004_01</td>\n      <td>Earth</td>\n      <td>False</td>\n      <td>F/1/S</td>\n      <td>TRAPPIST-1e</td>\n      <td>16.000000</td>\n      <td>False</td>\n      <td>303.0</td>\n      <td>70.0</td>\n      <td>151.0</td>\n      <td>565.0</td>\n      <td>2.0</td>\n      <td>Willy Santantines</td>\n    </tr>\n    <tr>\n      <th>...</th>\n      <td>...</td>\n      <td>...</td>\n      <td>...</td>\n      <td>...</td>\n      <td>...</td>\n      <td>...</td>\n      <td>...</td>\n      <td>...</td>\n      <td>...</td>\n      <td>...</td>\n      <td>...</td>\n      <td>...</td>\n      <td>...</td>\n    </tr>\n    <tr>\n      <th>4272</th>\n      <td>9266_02</td>\n      <td>Earth</td>\n      <td>True</td>\n      <td>G/1496/S</td>\n      <td>TRAPPIST-1e</td>\n      <td>34.000000</td>\n      <td>False</td>\n      <td>0.0</td>\n      <td>0.0</td>\n      <td>0.0</td>\n      <td>0.0</td>\n      <td>0.0</td>\n      <td>Jeron Peter</td>\n    </tr>\n    <tr>\n      <th>4273</th>\n      <td>9269_01</td>\n      <td>Earth</td>\n      <td>False</td>\n      <td>Unknown</td>\n      <td>TRAPPIST-1e</td>\n      <td>42.000000</td>\n      <td>False</td>\n      <td>0.0</td>\n      <td>847.0</td>\n      <td>17.0</td>\n      <td>10.0</td>\n      <td>144.0</td>\n      <td>Matty Scheron</td>\n    </tr>\n    <tr>\n      <th>4274</th>\n      <td>9271_01</td>\n      <td>Mars</td>\n      <td>True</td>\n      <td>D/296/P</td>\n      <td>55 Cancri e</td>\n      <td>28.771969</td>\n      <td>False</td>\n      <td>0.0</td>\n      <td>0.0</td>\n      <td>0.0</td>\n      <td>0.0</td>\n      <td>0.0</td>\n      <td>Jayrin Pore</td>\n    </tr>\n    <tr>\n      <th>4275</th>\n      <td>9273_01</td>\n      <td>Europa</td>\n      <td>False</td>\n      <td>D/297/P</td>\n      <td>TRAPPIST-1e</td>\n      <td>28.771969</td>\n      <td>False</td>\n      <td>0.0</td>\n      <td>2680.0</td>\n      <td>0.0</td>\n      <td>0.0</td>\n      <td>523.0</td>\n      <td>Kitakan Conale</td>\n    </tr>\n    <tr>\n      <th>4276</th>\n      <td>9277_01</td>\n      <td>Earth</td>\n      <td>True</td>\n      <td>G/1498/S</td>\n      <td>PSO J318.5-22</td>\n      <td>43.000000</td>\n      <td>False</td>\n      <td>0.0</td>\n      <td>0.0</td>\n      <td>0.0</td>\n      <td>0.0</td>\n      <td>0.0</td>\n      <td>Lilace Leonzaley</td>\n    </tr>\n  </tbody>\n</table>\n<p>12970 rows × 13 columns</p>\n</div>"
     },
     "execution_count": 94,
     "metadata": {},
     "output_type": "execute_result"
    }
   ],
   "source": [
    "X"
   ],
   "metadata": {
    "collapsed": false,
    "ExecuteTime": {
     "end_time": "2023-11-04T19:04:37.065163600Z",
     "start_time": "2023-11-04T19:04:36.648776300Z"
    }
   },
   "id": "5b63b7d0c1ece12b"
  },
  {
   "cell_type": "code",
   "execution_count": 95,
   "outputs": [
    {
     "data": {
      "text/plain": "     PassengerId HomePlanet CryoSleep     Cabin    Destination   Age    VIP  \\\n0        0001_01     Europa     False     B/0/P    TRAPPIST-1e  39.0  False   \n1        0002_01      Earth     False     F/0/S    TRAPPIST-1e  24.0  False   \n2        0003_01     Europa     False     A/0/S    TRAPPIST-1e  58.0   True   \n3        0003_02     Europa     False     A/0/S    TRAPPIST-1e  33.0  False   \n4        0004_01      Earth     False     F/1/S    TRAPPIST-1e  16.0  False   \n...          ...        ...       ...       ...            ...   ...    ...   \n8688     9276_01     Europa     False    A/98/P    55 Cancri e  41.0   True   \n8689     9278_01      Earth      True  G/1499/S  PSO J318.5-22  18.0  False   \n8690     9279_01      Earth     False  G/1500/S    TRAPPIST-1e  26.0  False   \n8691     9280_01     Europa     False   E/608/S    55 Cancri e  32.0  False   \n8692     9280_02     Europa     False   E/608/S    TRAPPIST-1e  44.0  False   \n\n      RoomService  FoodCourt  ShoppingMall     Spa  VRDeck               Name  \\\n0             0.0        0.0           0.0     0.0     0.0    Maham Ofracculy   \n1           109.0        9.0          25.0   549.0    44.0       Juanna Vines   \n2            43.0     3576.0           0.0  6715.0    49.0      Altark Susent   \n3             0.0     1283.0         371.0  3329.0   193.0       Solam Susent   \n4           303.0       70.0         151.0   565.0     2.0  Willy Santantines   \n...           ...        ...           ...     ...     ...                ...   \n8688          0.0     6819.0           0.0  1643.0    74.0  Gravior Noxnuther   \n8689          0.0        0.0           0.0     0.0     0.0    Kurta Mondalley   \n8690          0.0        0.0        1872.0     1.0     0.0       Fayey Connon   \n8691          0.0     1049.0           0.0   353.0  3235.0   Celeon Hontichre   \n8692        126.0     4688.0           0.0     0.0    12.0   Propsh Hontichre   \n\n      Transported  \n0           False  \n1            True  \n2           False  \n3           False  \n4            True  \n...           ...  \n8688        False  \n8689        False  \n8690         True  \n8691        False  \n8692         True  \n\n[8693 rows x 14 columns]",
      "text/html": "<div>\n<style scoped>\n    .dataframe tbody tr th:only-of-type {\n        vertical-align: middle;\n    }\n\n    .dataframe tbody tr th {\n        vertical-align: top;\n    }\n\n    .dataframe thead th {\n        text-align: right;\n    }\n</style>\n<table border=\"1\" class=\"dataframe\">\n  <thead>\n    <tr style=\"text-align: right;\">\n      <th></th>\n      <th>PassengerId</th>\n      <th>HomePlanet</th>\n      <th>CryoSleep</th>\n      <th>Cabin</th>\n      <th>Destination</th>\n      <th>Age</th>\n      <th>VIP</th>\n      <th>RoomService</th>\n      <th>FoodCourt</th>\n      <th>ShoppingMall</th>\n      <th>Spa</th>\n      <th>VRDeck</th>\n      <th>Name</th>\n      <th>Transported</th>\n    </tr>\n  </thead>\n  <tbody>\n    <tr>\n      <th>0</th>\n      <td>0001_01</td>\n      <td>Europa</td>\n      <td>False</td>\n      <td>B/0/P</td>\n      <td>TRAPPIST-1e</td>\n      <td>39.0</td>\n      <td>False</td>\n      <td>0.0</td>\n      <td>0.0</td>\n      <td>0.0</td>\n      <td>0.0</td>\n      <td>0.0</td>\n      <td>Maham Ofracculy</td>\n      <td>False</td>\n    </tr>\n    <tr>\n      <th>1</th>\n      <td>0002_01</td>\n      <td>Earth</td>\n      <td>False</td>\n      <td>F/0/S</td>\n      <td>TRAPPIST-1e</td>\n      <td>24.0</td>\n      <td>False</td>\n      <td>109.0</td>\n      <td>9.0</td>\n      <td>25.0</td>\n      <td>549.0</td>\n      <td>44.0</td>\n      <td>Juanna Vines</td>\n      <td>True</td>\n    </tr>\n    <tr>\n      <th>2</th>\n      <td>0003_01</td>\n      <td>Europa</td>\n      <td>False</td>\n      <td>A/0/S</td>\n      <td>TRAPPIST-1e</td>\n      <td>58.0</td>\n      <td>True</td>\n      <td>43.0</td>\n      <td>3576.0</td>\n      <td>0.0</td>\n      <td>6715.0</td>\n      <td>49.0</td>\n      <td>Altark Susent</td>\n      <td>False</td>\n    </tr>\n    <tr>\n      <th>3</th>\n      <td>0003_02</td>\n      <td>Europa</td>\n      <td>False</td>\n      <td>A/0/S</td>\n      <td>TRAPPIST-1e</td>\n      <td>33.0</td>\n      <td>False</td>\n      <td>0.0</td>\n      <td>1283.0</td>\n      <td>371.0</td>\n      <td>3329.0</td>\n      <td>193.0</td>\n      <td>Solam Susent</td>\n      <td>False</td>\n    </tr>\n    <tr>\n      <th>4</th>\n      <td>0004_01</td>\n      <td>Earth</td>\n      <td>False</td>\n      <td>F/1/S</td>\n      <td>TRAPPIST-1e</td>\n      <td>16.0</td>\n      <td>False</td>\n      <td>303.0</td>\n      <td>70.0</td>\n      <td>151.0</td>\n      <td>565.0</td>\n      <td>2.0</td>\n      <td>Willy Santantines</td>\n      <td>True</td>\n    </tr>\n    <tr>\n      <th>...</th>\n      <td>...</td>\n      <td>...</td>\n      <td>...</td>\n      <td>...</td>\n      <td>...</td>\n      <td>...</td>\n      <td>...</td>\n      <td>...</td>\n      <td>...</td>\n      <td>...</td>\n      <td>...</td>\n      <td>...</td>\n      <td>...</td>\n      <td>...</td>\n    </tr>\n    <tr>\n      <th>8688</th>\n      <td>9276_01</td>\n      <td>Europa</td>\n      <td>False</td>\n      <td>A/98/P</td>\n      <td>55 Cancri e</td>\n      <td>41.0</td>\n      <td>True</td>\n      <td>0.0</td>\n      <td>6819.0</td>\n      <td>0.0</td>\n      <td>1643.0</td>\n      <td>74.0</td>\n      <td>Gravior Noxnuther</td>\n      <td>False</td>\n    </tr>\n    <tr>\n      <th>8689</th>\n      <td>9278_01</td>\n      <td>Earth</td>\n      <td>True</td>\n      <td>G/1499/S</td>\n      <td>PSO J318.5-22</td>\n      <td>18.0</td>\n      <td>False</td>\n      <td>0.0</td>\n      <td>0.0</td>\n      <td>0.0</td>\n      <td>0.0</td>\n      <td>0.0</td>\n      <td>Kurta Mondalley</td>\n      <td>False</td>\n    </tr>\n    <tr>\n      <th>8690</th>\n      <td>9279_01</td>\n      <td>Earth</td>\n      <td>False</td>\n      <td>G/1500/S</td>\n      <td>TRAPPIST-1e</td>\n      <td>26.0</td>\n      <td>False</td>\n      <td>0.0</td>\n      <td>0.0</td>\n      <td>1872.0</td>\n      <td>1.0</td>\n      <td>0.0</td>\n      <td>Fayey Connon</td>\n      <td>True</td>\n    </tr>\n    <tr>\n      <th>8691</th>\n      <td>9280_01</td>\n      <td>Europa</td>\n      <td>False</td>\n      <td>E/608/S</td>\n      <td>55 Cancri e</td>\n      <td>32.0</td>\n      <td>False</td>\n      <td>0.0</td>\n      <td>1049.0</td>\n      <td>0.0</td>\n      <td>353.0</td>\n      <td>3235.0</td>\n      <td>Celeon Hontichre</td>\n      <td>False</td>\n    </tr>\n    <tr>\n      <th>8692</th>\n      <td>9280_02</td>\n      <td>Europa</td>\n      <td>False</td>\n      <td>E/608/S</td>\n      <td>TRAPPIST-1e</td>\n      <td>44.0</td>\n      <td>False</td>\n      <td>126.0</td>\n      <td>4688.0</td>\n      <td>0.0</td>\n      <td>0.0</td>\n      <td>12.0</td>\n      <td>Propsh Hontichre</td>\n      <td>True</td>\n    </tr>\n  </tbody>\n</table>\n<p>8693 rows × 14 columns</p>\n</div>"
     },
     "execution_count": 95,
     "metadata": {},
     "output_type": "execute_result"
    }
   ],
   "source": [
    "train_data_full"
   ],
   "metadata": {
    "collapsed": false,
    "ExecuteTime": {
     "end_time": "2023-11-04T19:04:37.350907500Z",
     "start_time": "2023-11-04T19:04:36.758283600Z"
    }
   },
   "id": "54a83a3a2180525c"
  },
  {
   "cell_type": "code",
   "execution_count": 96,
   "outputs": [
    {
     "data": {
      "text/plain": "            Transported\nHomePlanet             \nEuropa         0.658846\nMars           0.523024\nEarth          0.423946",
      "text/html": "<div>\n<style scoped>\n    .dataframe tbody tr th:only-of-type {\n        vertical-align: middle;\n    }\n\n    .dataframe tbody tr th {\n        vertical-align: top;\n    }\n\n    .dataframe thead th {\n        text-align: right;\n    }\n</style>\n<table border=\"1\" class=\"dataframe\">\n  <thead>\n    <tr style=\"text-align: right;\">\n      <th></th>\n      <th>Transported</th>\n    </tr>\n    <tr>\n      <th>HomePlanet</th>\n      <th></th>\n    </tr>\n  </thead>\n  <tbody>\n    <tr>\n      <th>Europa</th>\n      <td>0.658846</td>\n    </tr>\n    <tr>\n      <th>Mars</th>\n      <td>0.523024</td>\n    </tr>\n    <tr>\n      <th>Earth</th>\n      <td>0.423946</td>\n    </tr>\n  </tbody>\n</table>\n</div>"
     },
     "execution_count": 96,
     "metadata": {},
     "output_type": "execute_result"
    }
   ],
   "source": [
    "train_data_full[['HomePlanet','Transported']].groupby('HomePlanet').mean().sort_values(by='Transported',ascending=False)"
   ],
   "metadata": {
    "collapsed": false,
    "ExecuteTime": {
     "end_time": "2023-11-04T19:04:37.356908800Z",
     "start_time": "2023-11-04T19:04:36.873806100Z"
    }
   },
   "id": "e65f5e173fe96207"
  },
  {
   "cell_type": "code",
   "execution_count": 97,
   "outputs": [
    {
     "data": {
      "text/plain": "           Transported\nCryoSleep             \nTrue          0.817583\nFalse         0.328921",
      "text/html": "<div>\n<style scoped>\n    .dataframe tbody tr th:only-of-type {\n        vertical-align: middle;\n    }\n\n    .dataframe tbody tr th {\n        vertical-align: top;\n    }\n\n    .dataframe thead th {\n        text-align: right;\n    }\n</style>\n<table border=\"1\" class=\"dataframe\">\n  <thead>\n    <tr style=\"text-align: right;\">\n      <th></th>\n      <th>Transported</th>\n    </tr>\n    <tr>\n      <th>CryoSleep</th>\n      <th></th>\n    </tr>\n  </thead>\n  <tbody>\n    <tr>\n      <th>True</th>\n      <td>0.817583</td>\n    </tr>\n    <tr>\n      <th>False</th>\n      <td>0.328921</td>\n    </tr>\n  </tbody>\n</table>\n</div>"
     },
     "execution_count": 97,
     "metadata": {},
     "output_type": "execute_result"
    }
   ],
   "source": [
    "train_data_full[['CryoSleep','Transported']].groupby('CryoSleep').mean().sort_values(by='Transported',ascending=False)\n"
   ],
   "metadata": {
    "collapsed": false,
    "ExecuteTime": {
     "end_time": "2023-11-04T19:04:37.393553800Z",
     "start_time": "2023-11-04T19:04:36.916031700Z"
    }
   },
   "id": "c62dbda55373b592"
  },
  {
   "cell_type": "code",
   "execution_count": 98,
   "outputs": [
    {
     "data": {
      "text/plain": "               Transported\nDestination               \n55 Cancri e       0.610000\nPSO J318.5-22     0.503769\nTRAPPIST-1e       0.471175",
      "text/html": "<div>\n<style scoped>\n    .dataframe tbody tr th:only-of-type {\n        vertical-align: middle;\n    }\n\n    .dataframe tbody tr th {\n        vertical-align: top;\n    }\n\n    .dataframe thead th {\n        text-align: right;\n    }\n</style>\n<table border=\"1\" class=\"dataframe\">\n  <thead>\n    <tr style=\"text-align: right;\">\n      <th></th>\n      <th>Transported</th>\n    </tr>\n    <tr>\n      <th>Destination</th>\n      <th></th>\n    </tr>\n  </thead>\n  <tbody>\n    <tr>\n      <th>55 Cancri e</th>\n      <td>0.610000</td>\n    </tr>\n    <tr>\n      <th>PSO J318.5-22</th>\n      <td>0.503769</td>\n    </tr>\n    <tr>\n      <th>TRAPPIST-1e</th>\n      <td>0.471175</td>\n    </tr>\n  </tbody>\n</table>\n</div>"
     },
     "execution_count": 98,
     "metadata": {},
     "output_type": "execute_result"
    }
   ],
   "source": [
    "train_data_full[['Destination','Transported']].groupby('Destination').mean().sort_values(by='Transported',ascending=False)\n"
   ],
   "metadata": {
    "collapsed": false,
    "ExecuteTime": {
     "end_time": "2023-11-04T19:04:37.513636600Z",
     "start_time": "2023-11-04T19:04:36.962420900Z"
    }
   },
   "id": "dbe8ad8ce34ad12e"
  },
  {
   "cell_type": "code",
   "execution_count": 99,
   "outputs": [
    {
     "data": {
      "text/plain": "<Figure size 432x288 with 2 Axes>",
      "image/png": "[encoded data removed]"
     },
     "metadata": {},
     "output_type": "display_data"
    }
   ],
   "source": [
    "sns.heatmap(train_data_full.corr(), annot = True)\n",
    "plt.show()"
   ],
   "metadata": {
    "collapsed": false,
    "ExecuteTime": {
     "end_time": "2023-11-04T19:04:39.011698200Z",
     "start_time": "2023-11-04T19:04:36.998948800Z"
    }
   },
   "id": "d985177e7b80b18b"
  },
  {
   "cell_type": "code",
   "execution_count": 100,
   "outputs": [
    {
     "data": {
      "text/plain": "Index(['PassengerId', 'HomePlanet', 'CryoSleep', 'Cabin', 'Destination', 'Age',\n       'VIP', 'RoomService', 'FoodCourt', 'ShoppingMall', 'Spa', 'VRDeck',\n       'Name'],\n      dtype='object')"
     },
     "execution_count": 100,
     "metadata": {},
     "output_type": "execute_result"
    }
   ],
   "source": [
    "X.columns"
   ],
   "metadata": {
    "collapsed": false,
    "ExecuteTime": {
     "end_time": "2023-11-04T19:04:39.078215100Z",
     "start_time": "2023-11-04T19:04:38.523172500Z"
    }
   },
   "id": "6bbffff0db4632ca"
  },
  {
   "cell_type": "code",
   "execution_count": 101,
   "outputs": [],
   "source": [
    "# from sklearn.base import BaseEstimator, TransformerMixin\n",
    "# from sklearn.impute import SimpleImputer\n",
    "# from sklearn.preprocessing import OneHotEncoder\n",
    "# \n",
    "# class AgeImputer(BaseEstimator, TransformerMixin):\n",
    "#     def fit(self, X, y=None):\n",
    "#         return self\n",
    "#     def transform(self, X):\n",
    "#         imputer = SimpleImputer(strategy='mean')\n",
    "#         X['Age'] = imputer.fit_transform(X[['Age']])\n",
    "#         return X\n",
    "# class FeatureOHEncoder(BaseEstimator, TransformerMixin):\n",
    "#     def fit(self, X, y=None):\n",
    "#         return self\n",
    "#     def transform(self,X):\n",
    "#         OHencoder = OneHotEncoder()\n",
    "#         \n",
    "#     "
   ],
   "metadata": {
    "collapsed": false,
    "ExecuteTime": {
     "end_time": "2023-11-04T19:04:41.688529300Z",
     "start_time": "2023-11-04T19:04:41.607238200Z"
    }
   },
   "id": "fe7775598c96169b"
  },
  {
   "cell_type": "markdown",
   "source": [
    "# feature Engineering "
   ],
   "metadata": {
    "collapsed": false
   },
   "id": "4b48a07e299a3281"
  },
  {
   "cell_type": "code",
   "execution_count": 102,
   "outputs": [
    {
     "data": {
      "text/plain": "0.6042833103161678"
     },
     "execution_count": 102,
     "metadata": {},
     "output_type": "execute_result"
    }
   ],
   "source": [
    "get_score_XGB(train_data,train_data_full.Transported)"
   ],
   "metadata": {
    "collapsed": false,
    "ExecuteTime": {
     "end_time": "2023-11-04T19:04:48.380238500Z",
     "start_time": "2023-11-04T19:04:43.052373800Z"
    }
   },
   "id": "20f80ab10ca10f79"
  },
  {
   "cell_type": "code",
   "execution_count": 103,
   "outputs": [],
   "source": [
    "from sklearn.feature_selection import mutual_info_classif\n",
    "\n",
    "def make_mi_scores(X, y):\n",
    "    X = X.copy()\n",
    "    for colname in X.select_dtypes([\"object\", \"category\"]):\n",
    "        X[colname], _ = X[colname].factorize()\n",
    "    # All discrete features should now have integer dtypes - important for the sklearn library\n",
    "    discrete_features = [pd.api.types.is_integer_dtype(t) for t in X.dtypes]\n",
    "    mi_scores = mutual_info_classif(X, y, discrete_features=discrete_features, random_state=0)\n",
    "    mi_scores = pd.Series(mi_scores, name=\"MI Scores\", index=X.columns)\n",
    "    mi_scores = mi_scores.sort_values(ascending=False)\n",
    "    return mi_scores\n",
    "\n",
    "\n",
    "def plot_mi_scores(scores):\n",
    "    scores = scores.sort_values(ascending=True)\n",
    "    width = np.arange(len(scores))\n",
    "    ticks = list(scores.index)\n",
    "    plt.barh(width, scores)\n",
    "    plt.yticks(width, ticks)\n",
    "    plt.title(\"Mutual Information Scores\")\n",
    "    plt.show()"
   ],
   "metadata": {
    "collapsed": false,
    "ExecuteTime": {
     "end_time": "2023-11-04T19:04:48.429180900Z",
     "start_time": "2023-11-04T19:04:48.152306600Z"
    }
   },
   "id": "222190eb2664ce83"
  },
  {
   "cell_type": "code",
   "execution_count": 104,
   "outputs": [
    {
     "data": {
      "text/plain": "<Figure size 432x288 with 1 Axes>",
      "image/png": "[encoded data removed]"
     },
     "metadata": {},
     "output_type": "display_data"
    }
   ],
   "source": [
    "X_mi = X[:train_len].copy()\n",
    "y_mi = train_data_full.Transported.copy()\n",
    "scores = make_mi_scores(X_mi,y_mi)\n",
    "plot_mi_scores(scores)"
   ],
   "metadata": {
    "collapsed": false,
    "ExecuteTime": {
     "end_time": "2023-11-04T19:04:50.676966900Z",
     "start_time": "2023-11-04T19:04:48.171085500Z"
    }
   },
   "id": "80398132c87497a7"
  },
  {
   "cell_type": "code",
   "execution_count": 105,
   "outputs": [
    {
     "data": {
      "text/plain": "<Figure size 432x288 with 1 Axes>",
      "image/png": "[encoded data removed]"
     },
     "metadata": {},
     "output_type": "display_data"
    }
   ],
   "source": [
    "sns.countplot(data=train_data_full, x=\"CryoSleep\", hue=\"Transported\")\n",
    "plt.show()"
   ],
   "metadata": {
    "collapsed": false,
    "ExecuteTime": {
     "end_time": "2023-11-04T19:04:51.669364500Z",
     "start_time": "2023-11-04T19:04:50.669949Z"
    }
   },
   "id": "2cabc4a7104dc6fd"
  },
  {
   "cell_type": "code",
   "execution_count": 106,
   "outputs": [
    {
     "data": {
      "text/plain": "<Figure size 1080x432 with 1 Axes>",
      "image/png": "[encoded data removed]"
     },
     "metadata": {},
     "output_type": "display_data"
    }
   ],
   "source": [
    "plt.figure(figsize=(15,6))\n",
    "sns.histplot(data= train_data_full, x='Age',hue='Transported',kde=True, binwidth=1)\n",
    "plt.show()"
   ],
   "metadata": {
    "collapsed": false,
    "ExecuteTime": {
     "end_time": "2023-11-04T19:04:53.750069500Z",
     "start_time": "2023-11-04T19:04:51.655655100Z"
    }
   },
   "id": "e774dd28f91bfdfa"
  },
  {
   "cell_type": "code",
   "execution_count": 107,
   "outputs": [],
   "source": [
    "high_skew = ['VIP', 'RoomService', 'FoodCourt', 'ShoppingMall', 'Spa', 'VRDeck']"
   ],
   "metadata": {
    "collapsed": false,
    "ExecuteTime": {
     "end_time": "2023-11-04T19:04:54.041556800Z",
     "start_time": "2023-11-04T19:04:53.660801400Z"
    }
   },
   "id": "c5be7427744f869e"
  },
  {
   "cell_type": "markdown",
   "source": [
    "log for high skew featues: 'VIP', 'RoomService', 'FoodCourt', 'ShoppingMall', 'Spa', 'VRDeck'"
   ],
   "metadata": {
    "collapsed": false
   },
   "id": "807ee9abeb527fd9"
  },
  {
   "cell_type": "code",
   "execution_count": 108,
   "outputs": [
    {
     "data": {
      "text/plain": "     PassengerId HomePlanet  CryoSleep     Cabin    Destination        Age  \\\n0        0001_01     Europa      False     B/0/P    TRAPPIST-1e  39.000000   \n1        0002_01      Earth      False     F/0/S    TRAPPIST-1e  24.000000   \n2        0003_01     Europa      False     A/0/S    TRAPPIST-1e  58.000000   \n3        0003_02     Europa      False     A/0/S    TRAPPIST-1e  33.000000   \n4        0004_01      Earth      False     F/1/S    TRAPPIST-1e  16.000000   \n...          ...        ...        ...       ...            ...        ...   \n4272     9266_02      Earth       True  G/1496/S    TRAPPIST-1e  34.000000   \n4273     9269_01      Earth      False   Unknown    TRAPPIST-1e  42.000000   \n4274     9271_01       Mars       True   D/296/P    55 Cancri e  28.771969   \n4275     9273_01     Europa      False   D/297/P    TRAPPIST-1e  28.771969   \n4276     9277_01      Earth       True  G/1498/S  PSO J318.5-22  43.000000   \n\n                   Name   log_VIP  log_RoomService  log_FoodCourt  \\\n0       Maham Ofracculy  0.000000         0.000000       0.000000   \n1          Juanna Vines  0.000000         4.700480       2.302585   \n2         Altark Susent  0.693359         3.784190       8.182280   \n3          Solam Susent  0.000000         0.000000       7.157735   \n4     Willy Santantines  0.000000         5.717028       4.262680   \n...                 ...       ...              ...            ...   \n4272        Jeron Peter  0.000000         0.000000       0.000000   \n4273      Matty Scheron  0.000000         0.000000       6.742881   \n4274        Jayrin Pore  0.000000         0.000000       0.000000   \n4275     Kitakan Conale  0.000000         0.000000       7.893945   \n4276   Lilace Leonzaley  0.000000         0.000000       0.000000   \n\n      log_ShoppingMall   log_Spa  log_VRDeck  log_Expenditure  \n0             0.000000  0.000000    0.000000              0.0  \n1             3.258097  6.309918    3.806662            736.0  \n2             0.000000  8.812248    3.912023          10384.0  \n3             5.918894  8.110728    5.267858           5176.0  \n4             5.023881  6.338594    1.098612           1091.0  \n...                ...       ...         ...              ...  \n4272          0.000000  0.000000    0.000000              0.0  \n4273          2.890372  2.397895    4.976734           1018.0  \n4274          0.000000  0.000000    0.000000              0.0  \n4275          0.000000  0.000000    6.261492           3203.0  \n4276          0.000000  0.000000    0.000000              0.0  \n\n[12970 rows x 14 columns]",
      "text/html": "<div>\n<style scoped>\n    .dataframe tbody tr th:only-of-type {\n        vertical-align: middle;\n    }\n\n    .dataframe tbody tr th {\n        vertical-align: top;\n    }\n\n    .dataframe thead th {\n        text-align: right;\n    }\n</style>\n<table border=\"1\" class=\"dataframe\">\n  <thead>\n    <tr style=\"text-align: right;\">\n      <th></th>\n      <th>PassengerId</th>\n      <th>HomePlanet</th>\n      <th>CryoSleep</th>\n      <th>Cabin</th>\n      <th>Destination</th>\n      <th>Age</th>\n      <th>Name</th>\n      <th>log_VIP</th>\n      <th>log_RoomService</th>\n      <th>log_FoodCourt</th>\n      <th>log_ShoppingMall</th>\n      <th>log_Spa</th>\n      <th>log_VRDeck</th>\n      <th>log_Expenditure</th>\n    </tr>\n  </thead>\n  <tbody>\n    <tr>\n      <th>0</th>\n      <td>0001_01</td>\n      <td>Europa</td>\n      <td>False</td>\n      <td>B/0/P</td>\n      <td>TRAPPIST-1e</td>\n      <td>39.000000</td>\n      <td>Maham Ofracculy</td>\n      <td>0.000000</td>\n      <td>0.000000</td>\n      <td>0.000000</td>\n      <td>0.000000</td>\n      <td>0.000000</td>\n      <td>0.000000</td>\n      <td>0.0</td>\n    </tr>\n    <tr>\n      <th>1</th>\n      <td>0002_01</td>\n      <td>Earth</td>\n      <td>False</td>\n      <td>F/0/S</td>\n      <td>TRAPPIST-1e</td>\n      <td>24.000000</td>\n      <td>Juanna Vines</td>\n      <td>0.000000</td>\n      <td>4.700480</td>\n      <td>2.302585</td>\n      <td>3.258097</td>\n      <td>6.309918</td>\n      <td>3.806662</td>\n      <td>736.0</td>\n    </tr>\n    <tr>\n      <th>2</th>\n      <td>0003_01</td>\n      <td>Europa</td>\n      <td>False</td>\n      <td>A/0/S</td>\n      <td>TRAPPIST-1e</td>\n      <td>58.000000</td>\n      <td>Altark Susent</td>\n      <td>0.693359</td>\n      <td>3.784190</td>\n      <td>8.182280</td>\n      <td>0.000000</td>\n      <td>8.812248</td>\n      <td>3.912023</td>\n      <td>10384.0</td>\n    </tr>\n    <tr>\n      <th>3</th>\n      <td>0003_02</td>\n      <td>Europa</td>\n      <td>False</td>\n      <td>A/0/S</td>\n      <td>TRAPPIST-1e</td>\n      <td>33.000000</td>\n      <td>Solam Susent</td>\n      <td>0.000000</td>\n      <td>0.000000</td>\n      <td>7.157735</td>\n      <td>5.918894</td>\n      <td>8.110728</td>\n      <td>5.267858</td>\n      <td>5176.0</td>\n    </tr>\n    <tr>\n      <th>4</th>\n      <td>0004_01</td>\n      <td>Earth</td>\n      <td>False</td>\n      <td>F/1/S</td>\n      <td>TRAPPIST-1e</td>\n      <td>16.000000</td>\n      <td>Willy Santantines</td>\n      <td>0.000000</td>\n      <td>5.717028</td>\n      <td>4.262680</td>\n      <td>5.023881</td>\n      <td>6.338594</td>\n      <td>1.098612</td>\n      <td>1091.0</td>\n    </tr>\n    <tr>\n      <th>...</th>\n      <td>...</td>\n      <td>...</td>\n      <td>...</td>\n      <td>...</td>\n      <td>...</td>\n      <td>...</td>\n      <td>...</td>\n      <td>...</td>\n      <td>...</td>\n      <td>...</td>\n      <td>...</td>\n      <td>...</td>\n      <td>...</td>\n      <td>...</td>\n    </tr>\n    <tr>\n      <th>4272</th>\n      <td>9266_02</td>\n      <td>Earth</td>\n      <td>True</td>\n      <td>G/1496/S</td>\n      <td>TRAPPIST-1e</td>\n      <td>34.000000</td>\n      <td>Jeron Peter</td>\n      <td>0.000000</td>\n      <td>0.000000</td>\n      <td>0.000000</td>\n      <td>0.000000</td>\n      <td>0.000000</td>\n      <td>0.000000</td>\n      <td>0.0</td>\n    </tr>\n    <tr>\n      <th>4273</th>\n      <td>9269_01</td>\n      <td>Earth</td>\n      <td>False</td>\n      <td>Unknown</td>\n      <td>TRAPPIST-1e</td>\n      <td>42.000000</td>\n      <td>Matty Scheron</td>\n      <td>0.000000</td>\n      <td>0.000000</td>\n      <td>6.742881</td>\n      <td>2.890372</td>\n      <td>2.397895</td>\n      <td>4.976734</td>\n      <td>1018.0</td>\n    </tr>\n    <tr>\n      <th>4274</th>\n      <td>9271_01</td>\n      <td>Mars</td>\n      <td>True</td>\n      <td>D/296/P</td>\n      <td>55 Cancri e</td>\n      <td>28.771969</td>\n      <td>Jayrin Pore</td>\n      <td>0.000000</td>\n      <td>0.000000</td>\n      <td>0.000000</td>\n      <td>0.000000</td>\n      <td>0.000000</td>\n      <td>0.000000</td>\n      <td>0.0</td>\n    </tr>\n    <tr>\n      <th>4275</th>\n      <td>9273_01</td>\n      <td>Europa</td>\n      <td>False</td>\n      <td>D/297/P</td>\n      <td>TRAPPIST-1e</td>\n      <td>28.771969</td>\n      <td>Kitakan Conale</td>\n      <td>0.000000</td>\n      <td>0.000000</td>\n      <td>7.893945</td>\n      <td>0.000000</td>\n      <td>0.000000</td>\n      <td>6.261492</td>\n      <td>3203.0</td>\n    </tr>\n    <tr>\n      <th>4276</th>\n      <td>9277_01</td>\n      <td>Earth</td>\n      <td>True</td>\n      <td>G/1498/S</td>\n      <td>PSO J318.5-22</td>\n      <td>43.000000</td>\n      <td>Lilace Leonzaley</td>\n      <td>0.000000</td>\n      <td>0.000000</td>\n      <td>0.000000</td>\n      <td>0.000000</td>\n      <td>0.000000</td>\n      <td>0.000000</td>\n      <td>0.0</td>\n    </tr>\n  </tbody>\n</table>\n<p>12970 rows × 14 columns</p>\n</div>"
     },
     "execution_count": 108,
     "metadata": {},
     "output_type": "execute_result"
    }
   ],
   "source": [
    "for feat in high_skew:\n",
    "    X['log_' + feat] = X[feat].apply(np.log1p)\n",
    "X['log_Expenditure'] = X[high_skew].sum(axis=1)    \n",
    "X.drop(columns=high_skew)"
   ],
   "metadata": {
    "collapsed": false,
    "ExecuteTime": {
     "end_time": "2023-11-04T19:04:54.154913700Z",
     "start_time": "2023-11-04T19:04:53.683982300Z"
    }
   },
   "id": "fd551c6eb1ef6312"
  },
  {
   "cell_type": "code",
   "execution_count": 109,
   "outputs": [
    {
     "data": {
      "text/plain": "0.6098016068121104"
     },
     "execution_count": 109,
     "metadata": {},
     "output_type": "execute_result"
    }
   ],
   "source": [
    "get_score_XGB(X[:train_len],train_data_full.Transported)\n"
   ],
   "metadata": {
    "collapsed": false,
    "ExecuteTime": {
     "end_time": "2023-11-04T19:04:58.273437Z",
     "start_time": "2023-11-04T19:04:53.818018900Z"
    }
   },
   "id": "ca5dd69631c42d27"
  },
  {
   "cell_type": "markdown",
   "source": [
    "generalizing age to decade born"
   ],
   "metadata": {
    "collapsed": false
   },
   "id": "ff2e32d3857caa43"
  },
  {
   "cell_type": "code",
   "execution_count": 110,
   "outputs": [
    {
     "data": {
      "text/plain": "      dec_born        Age\n0           30  39.000000\n1           20  24.000000\n2           50  58.000000\n3           30  33.000000\n4           10  16.000000\n...        ...        ...\n4272        30  34.000000\n4273        40  42.000000\n4274        20  28.771969\n4275        20  28.771969\n4276        40  43.000000\n\n[12970 rows x 2 columns]",
      "text/html": "<div>\n<style scoped>\n    .dataframe tbody tr th:only-of-type {\n        vertical-align: middle;\n    }\n\n    .dataframe tbody tr th {\n        vertical-align: top;\n    }\n\n    .dataframe thead th {\n        text-align: right;\n    }\n</style>\n<table border=\"1\" class=\"dataframe\">\n  <thead>\n    <tr style=\"text-align: right;\">\n      <th></th>\n      <th>dec_born</th>\n      <th>Age</th>\n    </tr>\n  </thead>\n  <tbody>\n    <tr>\n      <th>0</th>\n      <td>30</td>\n      <td>39.000000</td>\n    </tr>\n    <tr>\n      <th>1</th>\n      <td>20</td>\n      <td>24.000000</td>\n    </tr>\n    <tr>\n      <th>2</th>\n      <td>50</td>\n      <td>58.000000</td>\n    </tr>\n    <tr>\n      <th>3</th>\n      <td>30</td>\n      <td>33.000000</td>\n    </tr>\n    <tr>\n      <th>4</th>\n      <td>10</td>\n      <td>16.000000</td>\n    </tr>\n    <tr>\n      <th>...</th>\n      <td>...</td>\n      <td>...</td>\n    </tr>\n    <tr>\n      <th>4272</th>\n      <td>30</td>\n      <td>34.000000</td>\n    </tr>\n    <tr>\n      <th>4273</th>\n      <td>40</td>\n      <td>42.000000</td>\n    </tr>\n    <tr>\n      <th>4274</th>\n      <td>20</td>\n      <td>28.771969</td>\n    </tr>\n    <tr>\n      <th>4275</th>\n      <td>20</td>\n      <td>28.771969</td>\n    </tr>\n    <tr>\n      <th>4276</th>\n      <td>40</td>\n      <td>43.000000</td>\n    </tr>\n  </tbody>\n</table>\n<p>12970 rows × 2 columns</p>\n</div>"
     },
     "execution_count": 110,
     "metadata": {},
     "output_type": "execute_result"
    }
   ],
   "source": [
    "X['dec_born'] = X['Age'].map(lambda p: (np.floor(p / 10) * 10).astype(int))\n",
    "X[['dec_born','Age']]"
   ],
   "metadata": {
    "collapsed": false,
    "ExecuteTime": {
     "end_time": "2023-11-04T19:04:58.435212800Z",
     "start_time": "2023-11-04T19:04:58.274436300Z"
    }
   },
   "id": "3658fda7f9d638ac"
  },
  {
   "cell_type": "code",
   "execution_count": 111,
   "outputs": [
    {
     "data": {
      "text/plain": "0.6098016068121104"
     },
     "execution_count": 111,
     "metadata": {},
     "output_type": "execute_result"
    }
   ],
   "source": [
    "get_score_XGB(X[:train_len],train_data_full.Transported)"
   ],
   "metadata": {
    "collapsed": false,
    "ExecuteTime": {
     "end_time": "2023-11-04T19:05:02.658153100Z",
     "start_time": "2023-11-04T19:04:58.404915500Z"
    }
   },
   "id": "13e596bbd0d40ef3"
  },
  {
   "cell_type": "code",
   "execution_count": null,
   "outputs": [],
   "source": [
    "X['Group'] = X['PassengerId'].str.split(\"_\").str[0].astype(int)\n",
    "X['Group_size'] = X['Group'].map(lambda x: X.value_counts()[x])\n",
    "# X['Group'] = X['Group'].map(lambda p: p[0])"
   ],
   "metadata": {
    "collapsed": false,
    "is_executing": true,
    "ExecuteTime": {
     "start_time": "2023-11-05T10:33:59.379803100Z"
    }
   },
   "id": "68a9eb0ba682a787"
  },
  {
   "cell_type": "code",
   "execution_count": null,
   "outputs": [],
   "source": [
    "X"
   ],
   "metadata": {
    "collapsed": false,
    "is_executing": true
   },
   "id": "a5fee503155d0646"
  },
  {
   "cell_type": "code",
   "execution_count": 125,
   "outputs": [],
   "source": [],
   "metadata": {
    "collapsed": false,
    "ExecuteTime": {
     "end_time": "2023-11-05T10:33:45.810635500Z",
     "start_time": "2023-11-05T10:33:33.664613100Z"
    }
   },
   "id": "711ba29ecbbed75"
  },
  {
   "cell_type": "code",
   "execution_count": null,
   "outputs": [],
   "source": [],
   "metadata": {
    "collapsed": false,
    "ExecuteTime": {
     "start_time": "2023-11-04T19:04:02.188361300Z"
    }
   },
   "id": "3e22842824b9e46f"
  }
 ],
 "metadata": {
  "kernelspec": {
   "display_name": "Python 3",
   "language": "python",
   "name": "python3"
  },
  "language_info": {
   "codemirror_mode": {
    "name": "ipython",
    "version": 2
   },
   "file_extension": ".py",
   "mimetype": "text/x-python",
   "name": "python",
   "nbconvert_exporter": "python",
   "pygments_lexer": "ipython2",
   "version": "2.7.6"
  }
 },
 "nbformat": 4,
 "nbformat_minor": 5
}
